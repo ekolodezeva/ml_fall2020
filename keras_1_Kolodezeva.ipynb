{
 "cells": [
  {
   "cell_type": "code",
   "execution_count": 1,
   "metadata": {
    "scrolled": true
   },
   "outputs": [
    {
     "name": "stdout",
     "output_type": "stream",
     "text": [
      "Requirement already satisfied: keras in /home/eko/anaconda3/lib/python3.8/site-packages (2.4.3)\r\n",
      "Requirement already satisfied: h5py in /home/eko/anaconda3/lib/python3.8/site-packages (from keras) (2.10.0)\r\n",
      "Requirement already satisfied: scipy>=0.14 in /home/eko/anaconda3/lib/python3.8/site-packages (from keras) (1.4.1)\r\n",
      "Requirement already satisfied: numpy>=1.9.1 in /home/eko/anaconda3/lib/python3.8/site-packages (from keras) (1.19.2)\r\n",
      "Requirement already satisfied: pyyaml in /home/eko/anaconda3/lib/python3.8/site-packages (from keras) (5.3.1)\r\n",
      "Requirement already satisfied: six in /home/eko/anaconda3/lib/python3.8/site-packages (from h5py->keras) (1.15.0)\r\n"
     ]
    }
   ],
   "source": [
    "! pip install keras"
   ]
  },
  {
   "cell_type": "code",
   "execution_count": 2,
   "metadata": {
    "scrolled": true
   },
   "outputs": [
    {
     "name": "stdout",
     "output_type": "stream",
     "text": [
      "Requirement already satisfied: tensorflow==2.2 in /home/eko/anaconda3/lib/python3.8/site-packages (2.2.0)\n",
      "Requirement already satisfied: wheel>=0.26; python_version >= \"3\" in /home/eko/anaconda3/lib/python3.8/site-packages (from tensorflow==2.2) (0.36.0)\n",
      "Requirement already satisfied: keras-preprocessing>=1.1.0 in /home/eko/anaconda3/lib/python3.8/site-packages (from tensorflow==2.2) (1.1.2)\n",
      "Requirement already satisfied: gast==0.3.3 in /home/eko/anaconda3/lib/python3.8/site-packages (from tensorflow==2.2) (0.3.3)\n",
      "Requirement already satisfied: grpcio>=1.8.6 in /home/eko/anaconda3/lib/python3.8/site-packages (from tensorflow==2.2) (1.34.0)\n",
      "Requirement already satisfied: h5py<2.11.0,>=2.10.0 in /home/eko/anaconda3/lib/python3.8/site-packages (from tensorflow==2.2) (2.10.0)\n",
      "Requirement already satisfied: astunparse==1.6.3 in /home/eko/anaconda3/lib/python3.8/site-packages (from tensorflow==2.2) (1.6.3)\n",
      "Requirement already satisfied: termcolor>=1.1.0 in /home/eko/anaconda3/lib/python3.8/site-packages (from tensorflow==2.2) (1.1.0)\n",
      "Requirement already satisfied: google-pasta>=0.1.8 in /home/eko/anaconda3/lib/python3.8/site-packages (from tensorflow==2.2) (0.2.0)\n",
      "Collecting tensorboard<2.3.0,>=2.2.0\n",
      "  Using cached tensorboard-2.2.2-py3-none-any.whl (3.0 MB)\n",
      "Requirement already satisfied: opt-einsum>=2.3.2 in /home/eko/anaconda3/lib/python3.8/site-packages (from tensorflow==2.2) (3.3.0)\n",
      "Requirement already satisfied: tensorflow-estimator<2.3.0,>=2.2.0 in /home/eko/anaconda3/lib/python3.8/site-packages (from tensorflow==2.2) (2.2.0)\n",
      "Requirement already satisfied: numpy<2.0,>=1.16.0 in /home/eko/anaconda3/lib/python3.8/site-packages (from tensorflow==2.2) (1.19.2)\n",
      "Requirement already satisfied: protobuf>=3.8.0 in /home/eko/anaconda3/lib/python3.8/site-packages (from tensorflow==2.2) (3.14.0)\n",
      "Requirement already satisfied: six>=1.12.0 in /home/eko/anaconda3/lib/python3.8/site-packages (from tensorflow==2.2) (1.15.0)\n",
      "Requirement already satisfied: absl-py>=0.7.0 in /home/eko/anaconda3/lib/python3.8/site-packages (from tensorflow==2.2) (0.11.0)\n",
      "Requirement already satisfied: scipy==1.4.1; python_version >= \"3\" in /home/eko/anaconda3/lib/python3.8/site-packages (from tensorflow==2.2) (1.4.1)\n",
      "Requirement already satisfied: wrapt>=1.11.1 in /home/eko/anaconda3/lib/python3.8/site-packages (from tensorflow==2.2) (1.11.2)\n",
      "Requirement already satisfied: markdown>=2.6.8 in /home/eko/anaconda3/lib/python3.8/site-packages (from tensorboard<2.3.0,>=2.2.0->tensorflow==2.2) (3.3.3)\n",
      "Requirement already satisfied: werkzeug>=0.11.15 in /home/eko/anaconda3/lib/python3.8/site-packages (from tensorboard<2.3.0,>=2.2.0->tensorflow==2.2) (1.0.1)\n",
      "Requirement already satisfied: setuptools>=41.0.0 in /home/eko/anaconda3/lib/python3.8/site-packages (from tensorboard<2.3.0,>=2.2.0->tensorflow==2.2) (50.3.0.post20201006)\n",
      "Requirement already satisfied: google-auth-oauthlib<0.5,>=0.4.1 in /home/eko/anaconda3/lib/python3.8/site-packages (from tensorboard<2.3.0,>=2.2.0->tensorflow==2.2) (0.4.2)\n",
      "Requirement already satisfied: google-auth<2,>=1.6.3 in /home/eko/anaconda3/lib/python3.8/site-packages (from tensorboard<2.3.0,>=2.2.0->tensorflow==2.2) (1.23.0)\n",
      "Requirement already satisfied: requests<3,>=2.21.0 in /home/eko/anaconda3/lib/python3.8/site-packages (from tensorboard<2.3.0,>=2.2.0->tensorflow==2.2) (2.25.0)\n",
      "Requirement already satisfied: tensorboard-plugin-wit>=1.6.0 in /home/eko/anaconda3/lib/python3.8/site-packages (from tensorboard<2.3.0,>=2.2.0->tensorflow==2.2) (1.7.0)\n",
      "Requirement already satisfied: requests-oauthlib>=0.7.0 in /home/eko/anaconda3/lib/python3.8/site-packages (from google-auth-oauthlib<0.5,>=0.4.1->tensorboard<2.3.0,>=2.2.0->tensorflow==2.2) (1.3.0)\n",
      "Requirement already satisfied: rsa<5,>=3.1.4; python_version >= \"3.5\" in /home/eko/anaconda3/lib/python3.8/site-packages (from google-auth<2,>=1.6.3->tensorboard<2.3.0,>=2.2.0->tensorflow==2.2) (4.6)\n",
      "Requirement already satisfied: cachetools<5.0,>=2.0.0 in /home/eko/anaconda3/lib/python3.8/site-packages (from google-auth<2,>=1.6.3->tensorboard<2.3.0,>=2.2.0->tensorflow==2.2) (4.2.0)\n",
      "Requirement already satisfied: pyasn1-modules>=0.2.1 in /home/eko/anaconda3/lib/python3.8/site-packages (from google-auth<2,>=1.6.3->tensorboard<2.3.0,>=2.2.0->tensorflow==2.2) (0.2.8)\n",
      "Requirement already satisfied: urllib3<1.27,>=1.21.1 in /home/eko/anaconda3/lib/python3.8/site-packages (from requests<3,>=2.21.0->tensorboard<2.3.0,>=2.2.0->tensorflow==2.2) (1.25.11)\n",
      "Requirement already satisfied: idna<3,>=2.5 in /home/eko/anaconda3/lib/python3.8/site-packages (from requests<3,>=2.21.0->tensorboard<2.3.0,>=2.2.0->tensorflow==2.2) (2.10)\n",
      "Requirement already satisfied: certifi>=2017.4.17 in /home/eko/anaconda3/lib/python3.8/site-packages (from requests<3,>=2.21.0->tensorboard<2.3.0,>=2.2.0->tensorflow==2.2) (2020.12.5)\n",
      "Requirement already satisfied: chardet<4,>=3.0.2 in /home/eko/anaconda3/lib/python3.8/site-packages (from requests<3,>=2.21.0->tensorboard<2.3.0,>=2.2.0->tensorflow==2.2) (3.0.4)\n",
      "Requirement already satisfied: oauthlib>=3.0.0 in /home/eko/anaconda3/lib/python3.8/site-packages (from requests-oauthlib>=0.7.0->google-auth-oauthlib<0.5,>=0.4.1->tensorboard<2.3.0,>=2.2.0->tensorflow==2.2) (3.1.0)\n",
      "Requirement already satisfied: pyasn1>=0.1.3 in /home/eko/anaconda3/lib/python3.8/site-packages (from rsa<5,>=3.1.4; python_version >= \"3.5\"->google-auth<2,>=1.6.3->tensorboard<2.3.0,>=2.2.0->tensorflow==2.2) (0.4.8)\n",
      "Installing collected packages: tensorboard\n",
      "  Attempting uninstall: tensorboard\n",
      "    Found existing installation: tensorboard 2.3.0\n",
      "    Uninstalling tensorboard-2.3.0:\n",
      "      Successfully uninstalled tensorboard-2.3.0\n",
      "Successfully installed tensorboard-2.2.2\n"
     ]
    }
   ],
   "source": [
    "! pip install tensorflow==2.2"
   ]
  },
  {
   "cell_type": "code",
   "execution_count": 1,
   "metadata": {
    "scrolled": true
   },
   "outputs": [
    {
     "name": "stdout",
     "output_type": "stream",
     "text": [
      "(50000, 28, 28) (50000,)\n"
     ]
    },
    {
     "data": {
      "image/png": "[encoded data removed]",
      "text/plain": [
       "<Figure size 432x288 with 1 Axes>"
      ]
     },
     "metadata": {
      "needs_background": "light"
     },
     "output_type": "display_data"
    }
   ],
   "source": [
    "import keras\n",
    "from keras.optimizers import SGD\n",
    "from keras.models import Sequential\n",
    "from keras.layers import Dense\n",
    "from sklearn.preprocessing import LabelBinarizer\n",
    "import matplotlib.pyplot as plt\n",
    "\n",
    "%matplotlib inline\n",
    "\n",
    "def load_dataset(flatten=False):\n",
    "    (X_train, y_train), (X_test, y_test) = keras.datasets.mnist.load_data()\n",
    "    # normalize x\n",
    "    X_train = X_train.astype(float) / 255.\n",
    "    X_test = X_test.astype(float) / 255.\n",
    "    \n",
    "    # Оставим 10000 примеров на валидацию\n",
    "    X_train, X_val = X_train[:-10000], X_train[-10000:]\n",
    "    y_train, y_val = y_train[:-10000], y_train[-10000:]\n",
    "    if flatten:\n",
    "        X_train = X_train.reshape([X_train.shape[0], -1])\n",
    "        X_val = X_val.reshape([X_val.shape[0], -1])\n",
    "        X_test = X_test.reshape([X_test.shape[0], -1])\n",
    "    return X_train, y_train, X_val, y_val, X_test, y_test\n",
    "\n",
    "\n",
    "X_train, y_train, X_val, y_val, X_test, y_test = load_dataset()\n",
    "## Размеры\n",
    "print(X_train.shape, y_train.shape)\n",
    "## Нарисуем пример\n",
    "plt.imshow(X_train[0], cmap=\"Greys\");"
   ]
  },
  {
   "cell_type": "code",
   "execution_count": 2,
   "metadata": {},
   "outputs": [
    {
     "name": "stdout",
     "output_type": "stream",
     "text": [
      "Train dimension:\n",
      "(50000, 784)\n",
      "Test dimension:\n",
      "(10000, 784)\n",
      "Train labels dimension:\n",
      "(50000, 10)\n",
      "Test labels dimension:\n",
      "(10000, 10)\n"
     ]
    }
   ],
   "source": [
    "## Сделаем объекты плоскими N*28*28 to  N*784\n",
    "\n",
    "X_train = X_train.reshape((X_train.shape[0],X_train.shape[1]*X_train.shape[2]))\n",
    "X_test = X_test.reshape((X_test.shape[0],X_test.shape[1]*X_test.shape[2]))\n",
    "\n",
    "print('Train dimension:');print(X_train.shape)\n",
    "print('Test dimension:');print(X_test.shape)\n",
    "\n",
    "## Лейблы нужно сделать One-Hot\n",
    "lb = LabelBinarizer()\n",
    "y_train = lb.fit_transform(y_train)\n",
    "y_test = lb.transform(y_test)\n",
    "print('Train labels dimension:');print(y_train.shape)\n",
    "print('Test labels dimension:');print(y_test.shape)"
   ]
  },
  {
   "cell_type": "code",
   "execution_count": 3,
   "metadata": {},
   "outputs": [],
   "source": [
    "from keras.models import Sequential\n",
    "from keras.layers import Dense"
   ]
  },
  {
   "cell_type": "code",
   "execution_count": 5,
   "metadata": {},
   "outputs": [
    {
     "name": "stdout",
     "output_type": "stream",
     "text": [
      "Epoch 1/5\n",
      "5000/5000 [==============================] - 4s 867us/step - loss: 0.0879 - mean_squared_error: 0.0879 - val_loss: 0.0848 - val_mean_squared_error: 0.0848\n",
      "Epoch 2/5\n",
      "5000/5000 [==============================] - 4s 813us/step - loss: 0.0787 - mean_squared_error: 0.0787 - val_loss: 0.0713 - val_mean_squared_error: 0.0713\n",
      "Epoch 3/5\n",
      "5000/5000 [==============================] - 4s 826us/step - loss: 0.0666 - mean_squared_error: 0.0666 - val_loss: 0.0608 - val_mean_squared_error: 0.0608\n",
      "Epoch 4/5\n",
      "5000/5000 [==============================] - 4s 868us/step - loss: 0.0552 - mean_squared_error: 0.0552 - val_loss: 0.0461 - val_mean_squared_error: 0.0461\n",
      "Epoch 5/5\n",
      "5000/5000 [==============================] - 4s 840us/step - loss: 0.0401 - mean_squared_error: 0.0401 - val_loss: 0.0331 - val_mean_squared_error: 0.0331\n",
      "313/313 [==============================] - 0s 739us/step - loss: 0.0331 - mean_squared_error: 0.0331\n",
      "Test loss: 0.03314141556620598, test mse: 0.03314141556620598\n"
     ]
    }
   ],
   "source": [
    "model = Sequential()\n",
    "model.add(Dense(14, input_dim=X_train.shape[1], activation='relu'))\n",
    "model.add(Dense(12, activation='relu'))\n",
    "model.add(Dense(y_train.shape[1], activation='softmax'))\n",
    "\n",
    "model.compile(loss='mean_squared_error', optimizer='SGD', \n",
    "              metrics=['mean_squared_error'])\n",
    "\n",
    "model.fit(X_train, y_train, epochs=5, batch_size=10, \n",
    "          validation_data=(X_test, y_test))\n",
    "\n",
    "test_loss, test_mse = model.evaluate(X_test, y_test)\n",
    "print(f'Test loss: {test_loss}, test mse: {test_mse}')"
   ]
  },
  {
   "cell_type": "markdown",
   "metadata": {},
   "source": [
    "# Задание 1\n",
    "1. Выбрать верный loss\n",
    "2. Добавить accuracy как оценку качества\n",
    "3. Исследовать изменение качества при\n",
    "        3.1. Изменении числа слоев\n",
    "        3.2. Изменении числа нейронов\n",
    "        3.3. Изменение функции активации\n",
    "3. Исследовать параметры SGD, сделать выводы\n",
    "\n",
    "```\n",
    "tf.keras.optimizers.SGD(\n",
    "    learning_rate=0.01, momentum=0.0, nesterov=False, name=\"SGD\", **kwargs\n",
    ")\n",
    "```"
   ]
  },
  {
   "cell_type": "markdown",
   "metadata": {},
   "source": [
    "## Выбираем функцию потерь: бинарная кросс-валидация"
   ]
  },
  {
   "cell_type": "code",
   "execution_count": 6,
   "metadata": {},
   "outputs": [
    {
     "name": "stdout",
     "output_type": "stream",
     "text": [
      "Epoch 1/5\n",
      "391/391 [==============================] - 1s 3ms/step - loss: 0.2932 - mean_squared_error: 0.0831\n",
      "Epoch 2/5\n",
      "391/391 [==============================] - 1s 3ms/step - loss: 0.2454 - mean_squared_error: 0.0704\n",
      "Epoch 3/5\n",
      "391/391 [==============================] - 1s 4ms/step - loss: 0.2048 - mean_squared_error: 0.0577\n",
      "Epoch 4/5\n",
      "391/391 [==============================] - 1s 3ms/step - loss: 0.1728 - mean_squared_error: 0.0475\n",
      "Epoch 5/5\n",
      "391/391 [==============================] - 1s 3ms/step - loss: 0.1493 - mean_squared_error: 0.0402\n"
     ]
    },
    {
     "data": {
      "text/plain": [
       "<tensorflow.python.keras.callbacks.History at 0x7f765c6f8910>"
      ]
     },
     "execution_count": 6,
     "metadata": {},
     "output_type": "execute_result"
    }
   ],
   "source": [
    "model = Sequential()\n",
    "model.add(Dense(512, activation='relu', input_shape=(28 * 28,)))\n",
    "model.add(Dense(10, activation='softmax'))\n",
    "\n",
    "model.compile(optimizer='sgd',\n",
    "                loss='binary_crossentropy',\n",
    "                metrics = ['mean_squared_error'])\n",
    "\n",
    "model.fit(X_train, y_train, epochs=5, batch_size=128)"
   ]
  },
  {
   "cell_type": "code",
   "execution_count": 7,
   "metadata": {},
   "outputs": [
    {
     "name": "stdout",
     "output_type": "stream",
     "text": [
      "313/313 [==============================] - 0s 1ms/step - loss: 0.1352 - mean_squared_error: 0.0358\n",
      "Test loss: 0.13516487181186676, test mse: 0.03577910363674164\n"
     ]
    }
   ],
   "source": [
    "test_loss, test_mse = model.evaluate(X_test, y_test)\n",
    "print(f'Test loss: {test_loss}, test mse: {test_mse}')"
   ]
  },
  {
   "cell_type": "markdown",
   "metadata": {},
   "source": [
    "## Добавляем accuracy"
   ]
  },
  {
   "cell_type": "code",
   "execution_count": 8,
   "metadata": {},
   "outputs": [
    {
     "name": "stdout",
     "output_type": "stream",
     "text": [
      "Epoch 1/5\n",
      "5000/5000 [==============================] - 4s 895us/step - loss: 0.0861 - mean_squared_error: 0.0861 - accuracy: 0.2392 - val_loss: 0.0803 - val_mean_squared_error: 0.0803 - val_accuracy: 0.3727\n",
      "Epoch 2/5\n",
      "5000/5000 [==============================] - 4s 898us/step - loss: 0.0735 - mean_squared_error: 0.0735 - accuracy: 0.4396 - val_loss: 0.0655 - val_mean_squared_error: 0.0655 - val_accuracy: 0.5205\n",
      "Epoch 3/5\n",
      "5000/5000 [==============================] - 5s 915us/step - loss: 0.0583 - mean_squared_error: 0.0583 - accuracy: 0.5964 - val_loss: 0.0487 - val_mean_squared_error: 0.0487 - val_accuracy: 0.6995\n",
      "Epoch 4/5\n",
      "5000/5000 [==============================] - 5s 942us/step - loss: 0.0442 - mean_squared_error: 0.0442 - accuracy: 0.7186 - val_loss: 0.0374 - val_mean_squared_error: 0.0374 - val_accuracy: 0.7657\n",
      "Epoch 5/5\n",
      "5000/5000 [==============================] - 5s 921us/step - loss: 0.0358 - mean_squared_error: 0.0358 - accuracy: 0.7685 - val_loss: 0.0307 - val_mean_squared_error: 0.0307 - val_accuracy: 0.8025\n"
     ]
    },
    {
     "data": {
      "text/plain": [
       "<tensorflow.python.keras.callbacks.History at 0x7f765c680d00>"
      ]
     },
     "execution_count": 8,
     "metadata": {},
     "output_type": "execute_result"
    }
   ],
   "source": [
    "model = Sequential()\n",
    "model.add(Dense(14, input_dim=X_train.shape[1], activation='relu'))\n",
    "model.add(Dense(12, activation='relu'))\n",
    "model.add(Dense(y_train.shape[1], activation='softmax'))\n",
    "\n",
    "model.compile(loss='mean_squared_error', optimizer='SGD', \n",
    "              metrics=['mean_squared_error', 'accuracy'])\n",
    "\n",
    "model.fit(X_train, y_train, epochs=5, batch_size=10, \n",
    "          validation_data=(X_test, y_test))"
   ]
  },
  {
   "cell_type": "code",
   "execution_count": 9,
   "metadata": {},
   "outputs": [
    {
     "name": "stdout",
     "output_type": "stream",
     "text": [
      "313/313 [==============================] - 0s 995us/step - loss: 0.0307 - mean_squared_error: 0.0307 - accuracy: 0.8025\n",
      "Test loss: 0.030711423605680466, test mse: 0.030711423605680466, test accuracy: 0.8025000095367432\n"
     ]
    }
   ],
   "source": [
    "test_loss, test_mse, test_acc = model.evaluate(X_test, y_test)\n",
    "print(f'Test loss: {test_loss}, test mse: {test_mse}, test accuracy: {test_acc}')"
   ]
  },
  {
   "cell_type": "markdown",
   "metadata": {},
   "source": [
    "## Меняем количество слоев"
   ]
  },
  {
   "cell_type": "code",
   "execution_count": 10,
   "metadata": {},
   "outputs": [
    {
     "name": "stdout",
     "output_type": "stream",
     "text": [
      "Epoch 1/5\n",
      "391/391 [==============================] - 2s 4ms/step - loss: 0.3077 - mean_squared_error: 0.0865 - accuracy: 0.3222\n",
      "Epoch 2/5\n",
      "391/391 [==============================] - 2s 5ms/step - loss: 0.2688 - mean_squared_error: 0.0769 - accuracy: 0.5978\n",
      "Epoch 3/5\n",
      "391/391 [==============================] - 2s 4ms/step - loss: 0.2255 - mean_squared_error: 0.0641 - accuracy: 0.6995\n",
      "Epoch 4/5\n",
      "391/391 [==============================] - 2s 5ms/step - loss: 0.1850 - mean_squared_error: 0.0516 - accuracy: 0.7558\n",
      "Epoch 5/5\n",
      "391/391 [==============================] - 2s 5ms/step - loss: 0.1537 - mean_squared_error: 0.0420 - accuracy: 0.7944\n"
     ]
    },
    {
     "data": {
      "text/plain": [
       "<tensorflow.python.keras.callbacks.History at 0x7f765c495bb0>"
      ]
     },
     "execution_count": 10,
     "metadata": {},
     "output_type": "execute_result"
    }
   ],
   "source": [
    "# Добавляем новый слой с 256 нейронами в середину\n",
    "\n",
    "model = Sequential()\n",
    "model.add(Dense(512, activation='relu', input_shape=(28 * 28,)))\n",
    "model.add(Dense(256, activation='relu'))\n",
    "model.add(Dense(10, activation='softmax'))\n",
    "\n",
    "model.compile(optimizer='sgd',\n",
    "                loss='binary_crossentropy',\n",
    "                metrics = ['mean_squared_error', 'accuracy'])\n",
    "\n",
    "model.fit(X_train, y_train, epochs=5, batch_size=128)"
   ]
  },
  {
   "cell_type": "code",
   "execution_count": 11,
   "metadata": {},
   "outputs": [
    {
     "name": "stdout",
     "output_type": "stream",
     "text": [
      "313/313 [==============================] - 0s 1ms/step - loss: 0.1367 - mean_squared_error: 0.0369 - accuracy: 0.8198\n",
      "Test loss: 0.13674098253250122, test mse: 0.036907412111759186, test accuracy: 0.8198000192642212\n"
     ]
    }
   ],
   "source": [
    "test_loss, test_mse, test_acc = model.evaluate(X_test, y_test)\n",
    "print(f'Test loss: {test_loss}, test mse: {test_mse}, test accuracy: {test_acc}')"
   ]
  },
  {
   "cell_type": "markdown",
   "metadata": {},
   "source": [
    "## Меняем количество нейронов"
   ]
  },
  {
   "cell_type": "code",
   "execution_count": 12,
   "metadata": {},
   "outputs": [
    {
     "name": "stdout",
     "output_type": "stream",
     "text": [
      "Epoch 1/5\n",
      "391/391 [==============================] - 1s 4ms/step - loss: 0.3153 - mean_squared_error: 0.0881 - accuracy: 0.2071\n",
      "Epoch 2/5\n",
      "391/391 [==============================] - 1s 4ms/step - loss: 0.2918 - mean_squared_error: 0.0831 - accuracy: 0.4208\n",
      "Epoch 3/5\n",
      "391/391 [==============================] - 1s 4ms/step - loss: 0.2625 - mean_squared_error: 0.0756 - accuracy: 0.5530\n",
      "Epoch 4/5\n",
      "391/391 [==============================] - 1s 4ms/step - loss: 0.2299 - mean_squared_error: 0.0659 - accuracy: 0.6681\n",
      "Epoch 5/5\n",
      "391/391 [==============================] - 1s 4ms/step - loss: 0.1960 - mean_squared_error: 0.0553 - accuracy: 0.7439\n"
     ]
    },
    {
     "data": {
      "text/plain": [
       "<tensorflow.python.keras.callbacks.History at 0x7f765c394fd0>"
      ]
     },
     "execution_count": 12,
     "metadata": {},
     "output_type": "execute_result"
    }
   ],
   "source": [
    "# Меняем у нового слоя количество нейронов с 256 до 16\n",
    "\n",
    "model = Sequential()\n",
    "model.add(Dense(512, activation='relu', input_shape=(28 * 28,)))\n",
    "model.add(Dense(16, activation='relu'))\n",
    "model.add(Dense(10, activation='softmax'))\n",
    "\n",
    "model.compile(optimizer='sgd',\n",
    "                loss='binary_crossentropy',\n",
    "                metrics = ['mean_squared_error', 'accuracy'])\n",
    "\n",
    "model.fit(X_train, y_train, epochs=5, batch_size=128)"
   ]
  },
  {
   "cell_type": "code",
   "execution_count": 13,
   "metadata": {},
   "outputs": [
    {
     "name": "stdout",
     "output_type": "stream",
     "text": [
      "313/313 [==============================] - 0s 1ms/step - loss: 0.1773 - mean_squared_error: 0.0493 - accuracy: 0.7710\n",
      "Test loss: 0.17725180089473724, test mse: 0.04933655634522438, test accuracy: 0.7710000276565552\n"
     ]
    }
   ],
   "source": [
    "test_loss, test_mse, test_acc = model.evaluate(X_test, y_test)\n",
    "print(f'Test loss: {test_loss}, test mse: {test_mse}, test accuracy: {test_acc}')"
   ]
  },
  {
   "cell_type": "markdown",
   "metadata": {},
   "source": [
    "## Меняем функцию активации"
   ]
  },
  {
   "cell_type": "code",
   "execution_count": 14,
   "metadata": {},
   "outputs": [
    {
     "name": "stdout",
     "output_type": "stream",
     "text": [
      "Epoch 1/5\n",
      "391/391 [==============================] - 1s 3ms/step - loss: 0.7382 - mean_squared_error: 0.3381 - accuracy: 0.2466\n",
      "Epoch 2/5\n",
      "391/391 [==============================] - 1s 4ms/step - loss: 0.9197 - mean_squared_error: 0.1575 - accuracy: 0.1665\n",
      "Epoch 3/5\n",
      "391/391 [==============================] - 1s 4ms/step - loss: 0.2637 - mean_squared_error: 0.0761 - accuracy: 0.3984\n",
      "Epoch 4/5\n",
      "391/391 [==============================] - 1s 4ms/step - loss: 0.2565 - mean_squared_error: 0.0719 - accuracy: 0.5214\n",
      "Epoch 5/5\n",
      "391/391 [==============================] - 1s 4ms/step - loss: 0.3943 - mean_squared_error: 0.0816 - accuracy: 0.4752\n"
     ]
    },
    {
     "data": {
      "text/plain": [
       "<tensorflow.python.keras.callbacks.History at 0x7f765c2e14c0>"
      ]
     },
     "execution_count": 14,
     "metadata": {},
     "output_type": "execute_result"
    }
   ],
   "source": [
    "# Заменяем функцию активации на ReLu\n",
    "\n",
    "model = Sequential()\n",
    "model.add(Dense(512, activation='relu', input_shape=(28 * 28,)))\n",
    "model.add(Dense(16, activation='relu'))\n",
    "model.add(Dense(10, activation='relu'))\n",
    "\n",
    "model.compile(optimizer='sgd',\n",
    "                loss='binary_crossentropy',\n",
    "                metrics = ['mean_squared_error', 'accuracy'])\n",
    "\n",
    "model.fit(X_train, y_train, epochs=5, batch_size=128)"
   ]
  },
  {
   "cell_type": "code",
   "execution_count": 15,
   "metadata": {},
   "outputs": [
    {
     "name": "stdout",
     "output_type": "stream",
     "text": [
      "313/313 [==============================] - 0s 1ms/step - loss: 0.5338 - mean_squared_error: 0.0887 - accuracy: 0.2162\n",
      "Test loss: 0.5338338017463684, test mse: 0.08866886794567108, test accuracy: 0.21619999408721924\n"
     ]
    }
   ],
   "source": [
    "test_loss, test_mse, test_acc = model.evaluate(X_test, y_test)\n",
    "print(f'Test loss: {test_loss}, test mse: {test_mse}, test accuracy: {test_acc}')"
   ]
  },
  {
   "cell_type": "markdown",
   "metadata": {},
   "source": [
    "## SGD"
   ]
  },
  {
   "cell_type": "code",
   "execution_count": 16,
   "metadata": {},
   "outputs": [],
   "source": [
    "import pandas as pd"
   ]
  },
  {
   "cell_type": "code",
   "execution_count": 17,
   "metadata": {
    "scrolled": true
   },
   "outputs": [],
   "source": [
    "SGD_statistics = pd.DataFrame(columns=['nesterov', 'learning_rate', 'momentum',\n",
    "                                      'test_loss', 'test_mse', 'test_accuracy'])"
   ]
  },
  {
   "cell_type": "code",
   "execution_count": 18,
   "metadata": {
    "scrolled": true
   },
   "outputs": [
    {
     "name": "stdout",
     "output_type": "stream",
     "text": [
      "Epoch 1/5\n",
      "391/391 [==============================] - 2s 5ms/step - loss: 0.3097 - mean_squared_error: 0.0868 - accuracy: 0.3051\n",
      "Epoch 2/5\n",
      "391/391 [==============================] - 2s 5ms/step - loss: 0.2693 - mean_squared_error: 0.0770 - accuracy: 0.6024\n",
      "Epoch 3/5\n",
      "391/391 [==============================] - 2s 5ms/step - loss: 0.2242 - mean_squared_error: 0.0637 - accuracy: 0.6966\n",
      "Epoch 4/5\n",
      "391/391 [==============================] - 2s 5ms/step - loss: 0.1818 - mean_squared_error: 0.0506 - accuracy: 0.7543\n",
      "Epoch 5/5\n",
      "391/391 [==============================] - 2s 5ms/step - loss: 0.1495 - mean_squared_error: 0.0407 - accuracy: 0.7987\n",
      "313/313 [==============================] - 0s 1ms/step - loss: 0.1319 - mean_squared_error: 0.0353 - accuracy: 0.8291\n",
      "Epoch 1/5\n",
      "391/391 [==============================] - 2s 5ms/step - loss: 0.3055 - mean_squared_error: 0.0858 - accuracy: 0.3465\n",
      "Epoch 2/5\n",
      "391/391 [==============================] - 2s 5ms/step - loss: 0.2578 - mean_squared_error: 0.0736 - accuracy: 0.6299\n",
      "Epoch 3/5\n",
      "391/391 [==============================] - 2s 5ms/step - loss: 0.2081 - mean_squared_error: 0.0586 - accuracy: 0.7270\n",
      "Epoch 4/5\n",
      "391/391 [==============================] - 2s 5ms/step - loss: 0.1658 - mean_squared_error: 0.0456 - accuracy: 0.7874\n",
      "Epoch 5/5\n",
      "391/391 [==============================] - 2s 5ms/step - loss: 0.1356 - mean_squared_error: 0.0365 - accuracy: 0.8232\n",
      "313/313 [==============================] - 0s 1ms/step - loss: 0.1198 - mean_squared_error: 0.0316 - accuracy: 0.8458\n",
      "Epoch 1/5\n",
      "391/391 [==============================] - 2s 5ms/step - loss: 0.2295 - mean_squared_error: 0.0646 - accuracy: 0.6519\n",
      "Epoch 2/5\n",
      "391/391 [==============================] - 2s 5ms/step - loss: 0.1048 - mean_squared_error: 0.0276 - accuracy: 0.8483\n",
      "Epoch 3/5\n",
      "391/391 [==============================] - 2s 5ms/step - loss: 0.0749 - mean_squared_error: 0.0195 - accuracy: 0.8807\n",
      "Epoch 4/5\n",
      "391/391 [==============================] - 2s 5ms/step - loss: 0.0638 - mean_squared_error: 0.0166 - accuracy: 0.8946\n",
      "Epoch 5/5\n",
      "391/391 [==============================] - 2s 5ms/step - loss: 0.0577 - mean_squared_error: 0.0150 - accuracy: 0.9039\n",
      "313/313 [==============================] - 0s 1ms/step - loss: 0.0519 - mean_squared_error: 0.0134 - accuracy: 0.9138\n",
      "Epoch 1/5\n",
      "391/391 [==============================] - 2s 5ms/step - loss: 0.2264 - mean_squared_error: 0.0636 - accuracy: 0.6292\n",
      "Epoch 2/5\n",
      "391/391 [==============================] - 2s 5ms/step - loss: 0.1008 - mean_squared_error: 0.0265 - accuracy: 0.8534\n",
      "Epoch 3/5\n",
      "391/391 [==============================] - 2s 5ms/step - loss: 0.0727 - mean_squared_error: 0.0189 - accuracy: 0.8845\n",
      "Epoch 4/5\n",
      "391/391 [==============================] - 2s 5ms/step - loss: 0.0624 - mean_squared_error: 0.0161 - accuracy: 0.8976\n",
      "Epoch 5/5\n",
      "391/391 [==============================] - 2s 5ms/step - loss: 0.0566 - mean_squared_error: 0.0146 - accuracy: 0.9052\n",
      "313/313 [==============================] - 0s 1ms/step - loss: 0.0509 - mean_squared_error: 0.0131 - accuracy: 0.9157\n",
      "Epoch 1/5\n",
      "391/391 [==============================] - 2s 5ms/step - loss: 0.1628 - mean_squared_error: 0.0449 - accuracy: 0.7527\n",
      "Epoch 2/5\n",
      "391/391 [==============================] - 2s 5ms/step - loss: 0.0683 - mean_squared_error: 0.0177 - accuracy: 0.8906\n",
      "Epoch 3/5\n",
      "391/391 [==============================] - 2s 5ms/step - loss: 0.0552 - mean_squared_error: 0.0143 - accuracy: 0.9082\n",
      "Epoch 4/5\n",
      "391/391 [==============================] - 2s 5ms/step - loss: 0.0490 - mean_squared_error: 0.0126 - accuracy: 0.9184\n",
      "Epoch 5/5\n",
      "391/391 [==============================] - 2s 5ms/step - loss: 0.0447 - mean_squared_error: 0.0115 - accuracy: 0.9258\n",
      "313/313 [==============================] - 0s 1ms/step - loss: 0.0410 - mean_squared_error: 0.0104 - accuracy: 0.9326\n",
      "Epoch 1/5\n",
      "391/391 [==============================] - 2s 5ms/step - loss: 0.1615 - mean_squared_error: 0.0444 - accuracy: 0.7530\n",
      "Epoch 2/5\n",
      "391/391 [==============================] - 2s 5ms/step - loss: 0.0666 - mean_squared_error: 0.0173 - accuracy: 0.8917\n",
      "Epoch 3/5\n",
      "391/391 [==============================] - 2s 6ms/step - loss: 0.0542 - mean_squared_error: 0.0140 - accuracy: 0.9092\n",
      "Epoch 4/5\n",
      "391/391 [==============================] - 2s 5ms/step - loss: 0.0482 - mean_squared_error: 0.0124 - accuracy: 0.9203\n",
      "Epoch 5/5\n",
      "391/391 [==============================] - 2s 5ms/step - loss: 0.0439 - mean_squared_error: 0.0113 - accuracy: 0.9264\n",
      "313/313 [==============================] - 0s 1ms/step - loss: 0.0412 - mean_squared_error: 0.0105 - accuracy: 0.9324\n",
      "Epoch 1/5\n",
      "391/391 [==============================] - 2s 4ms/step - loss: 0.0814 - mean_squared_error: 0.0219 - accuracy: 0.8622\n",
      "Epoch 2/5\n",
      "391/391 [==============================] - 2s 5ms/step - loss: 0.0402 - mean_squared_error: 0.0104 - accuracy: 0.9330\n",
      "Epoch 3/5\n",
      "391/391 [==============================] - 2s 5ms/step - loss: 0.0305 - mean_squared_error: 0.0078 - accuracy: 0.9496\n",
      "Epoch 4/5\n",
      "391/391 [==============================] - 2s 5ms/step - loss: 0.0249 - mean_squared_error: 0.0064 - accuracy: 0.9592\n",
      "Epoch 5/5\n",
      "391/391 [==============================] - 2s 5ms/step - loss: 0.0207 - mean_squared_error: 0.0053 - accuracy: 0.9661\n",
      "313/313 [==============================] - 0s 1ms/step - loss: 0.0203 - mean_squared_error: 0.0053 - accuracy: 0.9652\n",
      "Epoch 1/5\n",
      "391/391 [==============================] - 2s 5ms/step - loss: 0.0787 - mean_squared_error: 0.0211 - accuracy: 0.8697\n",
      "Epoch 2/5\n",
      "391/391 [==============================] - 2s 5ms/step - loss: 0.0387 - mean_squared_error: 0.0100 - accuracy: 0.9346\n",
      "Epoch 3/5\n",
      "391/391 [==============================] - 2s 5ms/step - loss: 0.0296 - mean_squared_error: 0.0076 - accuracy: 0.9507\n",
      "Epoch 4/5\n",
      "391/391 [==============================] - 2s 5ms/step - loss: 0.0237 - mean_squared_error: 0.0060 - accuracy: 0.9607\n",
      "Epoch 5/5\n",
      "391/391 [==============================] - 2s 5ms/step - loss: 0.0196 - mean_squared_error: 0.0049 - accuracy: 0.9682\n",
      "313/313 [==============================] - 0s 2ms/step - loss: 0.0195 - mean_squared_error: 0.0051 - accuracy: 0.9673\n",
      "Epoch 1/5\n",
      "391/391 [==============================] - 2s 5ms/step - loss: 0.0667 - mean_squared_error: 0.0180 - accuracy: 0.8801\n",
      "Epoch 2/5\n",
      "391/391 [==============================] - 2s 5ms/step - loss: 0.0301 - mean_squared_error: 0.0078 - accuracy: 0.9482\n",
      "Epoch 3/5\n",
      "391/391 [==============================] - 2s 5ms/step - loss: 0.0213 - mean_squared_error: 0.0054 - accuracy: 0.9650\n",
      "Epoch 4/5\n",
      "391/391 [==============================] - 2s 5ms/step - loss: 0.0166 - mean_squared_error: 0.0043 - accuracy: 0.9725\n",
      "Epoch 5/5\n",
      "391/391 [==============================] - 2s 5ms/step - loss: 0.0131 - mean_squared_error: 0.0033 - accuracy: 0.9786\n",
      "313/313 [==============================] - 0s 1ms/step - loss: 0.0173 - mean_squared_error: 0.0045 - accuracy: 0.9709\n",
      "Epoch 1/5\n",
      "391/391 [==============================] - 2s 5ms/step - loss: 0.0639 - mean_squared_error: 0.0172 - accuracy: 0.8870\n",
      "Epoch 2/5\n",
      "391/391 [==============================] - 2s 6ms/step - loss: 0.0277 - mean_squared_error: 0.0072 - accuracy: 0.9528\n",
      "Epoch 3/5\n",
      "391/391 [==============================] - 2s 5ms/step - loss: 0.0196 - mean_squared_error: 0.0050 - accuracy: 0.9675\n",
      "Epoch 4/5\n",
      "391/391 [==============================] - 2s 5ms/step - loss: 0.0150 - mean_squared_error: 0.0038 - accuracy: 0.9753\n",
      "Epoch 5/5\n",
      "391/391 [==============================] - 2s 5ms/step - loss: 0.0121 - mean_squared_error: 0.0031 - accuracy: 0.9800\n",
      "313/313 [==============================] - 0s 1ms/step - loss: 0.0146 - mean_squared_error: 0.0039 - accuracy: 0.9733\n",
      "Epoch 1/5\n",
      "391/391 [==============================] - 2s 5ms/step - loss: 0.3054 - mean_squared_error: 0.0860 - accuracy: 0.3427\n",
      "Epoch 2/5\n",
      "391/391 [==============================] - 2s 5ms/step - loss: 0.2614 - mean_squared_error: 0.0749 - accuracy: 0.6537\n",
      "Epoch 3/5\n",
      "391/391 [==============================] - 2s 5ms/step - loss: 0.2135 - mean_squared_error: 0.0604 - accuracy: 0.7281\n",
      "Epoch 4/5\n",
      "391/391 [==============================] - 2s 5ms/step - loss: 0.1714 - mean_squared_error: 0.0472 - accuracy: 0.7796\n",
      "Epoch 5/5\n"
     ]
    },
    {
     "name": "stdout",
     "output_type": "stream",
     "text": [
      "391/391 [==============================] - 2s 5ms/step - loss: 0.1407 - mean_squared_error: 0.0379 - accuracy: 0.8141\n",
      "313/313 [==============================] - 0s 1ms/step - loss: 0.1243 - mean_squared_error: 0.0329 - accuracy: 0.8392\n",
      "Epoch 1/5\n",
      "391/391 [==============================] - 2s 5ms/step - loss: 0.3055 - mean_squared_error: 0.0861 - accuracy: 0.3372\n",
      "Epoch 2/5\n",
      "391/391 [==============================] - 2s 6ms/step - loss: 0.2620 - mean_squared_error: 0.0753 - accuracy: 0.6550\n",
      "Epoch 3/5\n",
      "391/391 [==============================] - 2s 5ms/step - loss: 0.2123 - mean_squared_error: 0.0604 - accuracy: 0.7376\n",
      "Epoch 4/5\n",
      "391/391 [==============================] - 2s 5ms/step - loss: 0.1681 - mean_squared_error: 0.0464 - accuracy: 0.7883\n",
      "Epoch 5/5\n",
      "391/391 [==============================] - 2s 5ms/step - loss: 0.1367 - mean_squared_error: 0.0368 - accuracy: 0.8204\n",
      "313/313 [==============================] - 0s 1ms/step - loss: 0.1204 - mean_squared_error: 0.0318 - accuracy: 0.8426\n",
      "Epoch 1/5\n",
      "391/391 [==============================] - 2s 5ms/step - loss: 0.2226 - mean_squared_error: 0.0625 - accuracy: 0.6694\n",
      "Epoch 2/5\n",
      "391/391 [==============================] - 2s 6ms/step - loss: 0.1024 - mean_squared_error: 0.0269 - accuracy: 0.8539\n",
      "Epoch 3/5\n",
      "391/391 [==============================] - 2s 5ms/step - loss: 0.0741 - mean_squared_error: 0.0193 - accuracy: 0.8821\n",
      "Epoch 4/5\n",
      "391/391 [==============================] - 2s 4ms/step - loss: 0.0636 - mean_squared_error: 0.0165 - accuracy: 0.8956\n",
      "Epoch 5/5\n",
      "391/391 [==============================] - 2s 5ms/step - loss: 0.0577 - mean_squared_error: 0.0150 - accuracy: 0.9033\n",
      "313/313 [==============================] - 0s 1ms/step - loss: 0.0519 - mean_squared_error: 0.0133 - accuracy: 0.9131\n",
      "Epoch 1/5\n",
      "391/391 [==============================] - 2s 5ms/step - loss: 0.2127 - mean_squared_error: 0.0596 - accuracy: 0.6753\n",
      "Epoch 2/5\n",
      "391/391 [==============================] - 2s 5ms/step - loss: 0.0942 - mean_squared_error: 0.0246 - accuracy: 0.8618\n",
      "Epoch 3/5\n",
      "391/391 [==============================] - 2s 5ms/step - loss: 0.0699 - mean_squared_error: 0.0181 - accuracy: 0.8877\n",
      "Epoch 4/5\n",
      "391/391 [==============================] - 2s 5ms/step - loss: 0.0605 - mean_squared_error: 0.0157 - accuracy: 0.9000\n",
      "Epoch 5/5\n",
      "391/391 [==============================] - 2s 5ms/step - loss: 0.0552 - mean_squared_error: 0.0143 - accuracy: 0.9085\n",
      "313/313 [==============================] - 0s 1ms/step - loss: 0.0500 - mean_squared_error: 0.0128 - accuracy: 0.9188\n",
      "Epoch 1/5\n",
      "391/391 [==============================] - 2s 5ms/step - loss: 0.1684 - mean_squared_error: 0.0466 - accuracy: 0.7410\n",
      "Epoch 2/5\n",
      "391/391 [==============================] - 2s 5ms/step - loss: 0.0692 - mean_squared_error: 0.0180 - accuracy: 0.8885\n",
      "Epoch 3/5\n",
      "391/391 [==============================] - 2s 5ms/step - loss: 0.0556 - mean_squared_error: 0.0145 - accuracy: 0.9069\n",
      "Epoch 4/5\n",
      "391/391 [==============================] - 2s 5ms/step - loss: 0.0494 - mean_squared_error: 0.0128 - accuracy: 0.9172\n",
      "Epoch 5/5\n",
      "391/391 [==============================] - 2s 5ms/step - loss: 0.0452 - mean_squared_error: 0.0117 - accuracy: 0.9248\n",
      "313/313 [==============================] - 0s 1ms/step - loss: 0.0416 - mean_squared_error: 0.0107 - accuracy: 0.9299\n",
      "Epoch 1/5\n",
      "391/391 [==============================] - 2s 5ms/step - loss: 0.1630 - mean_squared_error: 0.0449 - accuracy: 0.7456\n",
      "Epoch 2/5\n",
      "391/391 [==============================] - 2s 5ms/step - loss: 0.0665 - mean_squared_error: 0.0172 - accuracy: 0.8923\n",
      "Epoch 3/5\n",
      "391/391 [==============================] - 2s 5ms/step - loss: 0.0542 - mean_squared_error: 0.0140 - accuracy: 0.9104\n",
      "Epoch 4/5\n",
      "391/391 [==============================] - 2s 5ms/step - loss: 0.0482 - mean_squared_error: 0.0124 - accuracy: 0.9198\n",
      "Epoch 5/5\n",
      "391/391 [==============================] - 2s 5ms/step - loss: 0.0441 - mean_squared_error: 0.0113 - accuracy: 0.9258\n",
      "313/313 [==============================] - 0s 1ms/step - loss: 0.0404 - mean_squared_error: 0.0103 - accuracy: 0.9331\n",
      "Epoch 1/5\n",
      "391/391 [==============================] - 2s 5ms/step - loss: 0.0833 - mean_squared_error: 0.0224 - accuracy: 0.8609\n",
      "Epoch 2/5\n",
      "391/391 [==============================] - 2s 5ms/step - loss: 0.0398 - mean_squared_error: 0.0103 - accuracy: 0.9330\n",
      "Epoch 3/5\n",
      "391/391 [==============================] - 2s 5ms/step - loss: 0.0305 - mean_squared_error: 0.0078 - accuracy: 0.9489\n",
      "Epoch 4/5\n",
      "391/391 [==============================] - 2s 5ms/step - loss: 0.0247 - mean_squared_error: 0.0063 - accuracy: 0.9591\n",
      "Epoch 5/5\n",
      "391/391 [==============================] - 2s 5ms/step - loss: 0.0206 - mean_squared_error: 0.0052 - accuracy: 0.9657\n",
      "313/313 [==============================] - 0s 1ms/step - loss: 0.0209 - mean_squared_error: 0.0054 - accuracy: 0.9648\n",
      "Epoch 1/5\n",
      "391/391 [==============================] - 2s 5ms/step - loss: 0.0776 - mean_squared_error: 0.0208 - accuracy: 0.8707\n",
      "Epoch 2/5\n",
      "391/391 [==============================] - 2s 5ms/step - loss: 0.0387 - mean_squared_error: 0.0100 - accuracy: 0.9361\n",
      "Epoch 3/5\n",
      "391/391 [==============================] - 2s 5ms/step - loss: 0.0296 - mean_squared_error: 0.0076 - accuracy: 0.9507\n",
      "Epoch 4/5\n",
      "391/391 [==============================] - 2s 5ms/step - loss: 0.0238 - mean_squared_error: 0.0060 - accuracy: 0.9607\n",
      "Epoch 5/5\n",
      "391/391 [==============================] - 2s 5ms/step - loss: 0.0198 - mean_squared_error: 0.0050 - accuracy: 0.9678\n",
      "313/313 [==============================] - 0s 1ms/step - loss: 0.0203 - mean_squared_error: 0.0053 - accuracy: 0.9655\n",
      "Epoch 1/5\n",
      "391/391 [==============================] - 2s 6ms/step - loss: 0.0670 - mean_squared_error: 0.0180 - accuracy: 0.8820\n",
      "Epoch 2/5\n",
      "391/391 [==============================] - 2s 4ms/step - loss: 0.0298 - mean_squared_error: 0.0077 - accuracy: 0.9497\n",
      "Epoch 3/5\n",
      "391/391 [==============================] - 2s 5ms/step - loss: 0.0212 - mean_squared_error: 0.0054 - accuracy: 0.9646\n",
      "Epoch 4/5\n",
      "391/391 [==============================] - 2s 5ms/step - loss: 0.0162 - mean_squared_error: 0.0041 - accuracy: 0.9731\n",
      "Epoch 5/5\n",
      "391/391 [==============================] - 2s 5ms/step - loss: 0.0130 - mean_squared_error: 0.0033 - accuracy: 0.9789\n",
      "313/313 [==============================] - 0s 1ms/step - loss: 0.0157 - mean_squared_error: 0.0042 - accuracy: 0.9734\n",
      "Epoch 1/5\n",
      "391/391 [==============================] - 2s 5ms/step - loss: 0.0633 - mean_squared_error: 0.0170 - accuracy: 0.8889\n",
      "Epoch 2/5\n",
      "391/391 [==============================] - 2s 5ms/step - loss: 0.0279 - mean_squared_error: 0.0072 - accuracy: 0.9526\n",
      "Epoch 3/5\n",
      "391/391 [==============================] - 2s 5ms/step - loss: 0.0197 - mean_squared_error: 0.0051 - accuracy: 0.9669\n",
      "Epoch 4/5\n",
      "391/391 [==============================] - 2s 5ms/step - loss: 0.0150 - mean_squared_error: 0.0038 - accuracy: 0.9757\n",
      "Epoch 5/5\n",
      "391/391 [==============================] - 2s 5ms/step - loss: 0.0117 - mean_squared_error: 0.0029 - accuracy: 0.9811\n",
      "313/313 [==============================] - 0s 1ms/step - loss: 0.0137 - mean_squared_error: 0.0036 - accuracy: 0.9768\n"
     ]
    }
   ],
   "source": [
    "k = 0\n",
    "for nesterov in [True, False]:\n",
    "    for learning_rate in [0.01, 0.05, 0.1, 0.5, 1]:\n",
    "        for momentum in [0.0, 0.1]:\n",
    "            sgd = SGD(\n",
    "                learning_rate=learning_rate, momentum=momentum, nesterov=nesterov, name=\"SGD\"\n",
    "            )\n",
    "            model = Sequential()\n",
    "            model.add(Dense(512, activation='relu', input_shape=(28 * 28,)))\n",
    "            model.add(Dense(256, activation='relu'))\n",
    "            model.add(Dense(10, activation='softmax'))\n",
    "\n",
    "            model.compile(optimizer=sgd,\n",
    "                            loss='binary_crossentropy',\n",
    "                            metrics = ['mean_squared_error', 'accuracy'])\n",
    "\n",
    "            model.fit(X_train, y_train, epochs=5, batch_size=128)\n",
    "\n",
    "            test_loss, test_mse, test_acc = model.evaluate(X_test, y_test)\n",
    "#             print(f'Test loss: {test_loss}, test mse: {test_mse}, test accuracy: {test_acc}')\n",
    "            SGD_statistics.loc[k] = [nesterov, learning_rate, momentum,\n",
    "                             test_loss, test_mse, test_acc]\n",
    "            k+=1"
   ]
  },
  {
   "cell_type": "code",
   "execution_count": 19,
   "metadata": {},
   "outputs": [],
   "source": [
    "import seaborn as sns"
   ]
  },
  {
   "cell_type": "code",
   "execution_count": 20,
   "metadata": {},
   "outputs": [
    {
     "data": {
      "text/html": [
       "<style  type=\"text/css\" >\n",
       "#T_355c4cea_3d17_11eb_8d8a_3b0ecf7ed177row0_col1,#T_355c4cea_3d17_11eb_8d8a_3b0ecf7ed177row0_col2,#T_355c4cea_3d17_11eb_8d8a_3b0ecf7ed177row0_col5,#T_355c4cea_3d17_11eb_8d8a_3b0ecf7ed177row1_col1,#T_355c4cea_3d17_11eb_8d8a_3b0ecf7ed177row2_col2,#T_355c4cea_3d17_11eb_8d8a_3b0ecf7ed177row4_col2,#T_355c4cea_3d17_11eb_8d8a_3b0ecf7ed177row6_col2,#T_355c4cea_3d17_11eb_8d8a_3b0ecf7ed177row8_col2,#T_355c4cea_3d17_11eb_8d8a_3b0ecf7ed177row10_col1,#T_355c4cea_3d17_11eb_8d8a_3b0ecf7ed177row10_col2,#T_355c4cea_3d17_11eb_8d8a_3b0ecf7ed177row11_col1,#T_355c4cea_3d17_11eb_8d8a_3b0ecf7ed177row12_col2,#T_355c4cea_3d17_11eb_8d8a_3b0ecf7ed177row14_col2,#T_355c4cea_3d17_11eb_8d8a_3b0ecf7ed177row16_col2,#T_355c4cea_3d17_11eb_8d8a_3b0ecf7ed177row18_col2,#T_355c4cea_3d17_11eb_8d8a_3b0ecf7ed177row19_col3,#T_355c4cea_3d17_11eb_8d8a_3b0ecf7ed177row19_col4{\n",
       "            background-color:  #ebf3eb;\n",
       "            color:  #000000;\n",
       "        }#T_355c4cea_3d17_11eb_8d8a_3b0ecf7ed177row0_col3,#T_355c4cea_3d17_11eb_8d8a_3b0ecf7ed177row0_col4,#T_355c4cea_3d17_11eb_8d8a_3b0ecf7ed177row1_col2,#T_355c4cea_3d17_11eb_8d8a_3b0ecf7ed177row3_col2,#T_355c4cea_3d17_11eb_8d8a_3b0ecf7ed177row5_col2,#T_355c4cea_3d17_11eb_8d8a_3b0ecf7ed177row7_col2,#T_355c4cea_3d17_11eb_8d8a_3b0ecf7ed177row8_col1,#T_355c4cea_3d17_11eb_8d8a_3b0ecf7ed177row9_col1,#T_355c4cea_3d17_11eb_8d8a_3b0ecf7ed177row9_col2,#T_355c4cea_3d17_11eb_8d8a_3b0ecf7ed177row11_col2,#T_355c4cea_3d17_11eb_8d8a_3b0ecf7ed177row13_col2,#T_355c4cea_3d17_11eb_8d8a_3b0ecf7ed177row15_col2,#T_355c4cea_3d17_11eb_8d8a_3b0ecf7ed177row17_col2,#T_355c4cea_3d17_11eb_8d8a_3b0ecf7ed177row18_col1,#T_355c4cea_3d17_11eb_8d8a_3b0ecf7ed177row19_col1,#T_355c4cea_3d17_11eb_8d8a_3b0ecf7ed177row19_col2,#T_355c4cea_3d17_11eb_8d8a_3b0ecf7ed177row19_col5{\n",
       "            background-color:  #008000;\n",
       "            color:  #f1f1f1;\n",
       "        }#T_355c4cea_3d17_11eb_8d8a_3b0ecf7ed177row1_col3{\n",
       "            background-color:  #188c18;\n",
       "            color:  #000000;\n",
       "        }#T_355c4cea_3d17_11eb_8d8a_3b0ecf7ed177row1_col4{\n",
       "            background-color:  #1b8d1b;\n",
       "            color:  #000000;\n",
       "        }#T_355c4cea_3d17_11eb_8d8a_3b0ecf7ed177row1_col5{\n",
       "            background-color:  #d1e6d1;\n",
       "            color:  #000000;\n",
       "        }#T_355c4cea_3d17_11eb_8d8a_3b0ecf7ed177row2_col1,#T_355c4cea_3d17_11eb_8d8a_3b0ecf7ed177row3_col1,#T_355c4cea_3d17_11eb_8d8a_3b0ecf7ed177row12_col1,#T_355c4cea_3d17_11eb_8d8a_3b0ecf7ed177row13_col1{\n",
       "            background-color:  #e1eee1;\n",
       "            color:  #000000;\n",
       "        }#T_355c4cea_3d17_11eb_8d8a_3b0ecf7ed177row2_col3,#T_355c4cea_3d17_11eb_8d8a_3b0ecf7ed177row12_col3{\n",
       "            background-color:  #9fce9f;\n",
       "            color:  #000000;\n",
       "        }#T_355c4cea_3d17_11eb_8d8a_3b0ecf7ed177row2_col4{\n",
       "            background-color:  #a2cfa2;\n",
       "            color:  #000000;\n",
       "        }#T_355c4cea_3d17_11eb_8d8a_3b0ecf7ed177row2_col5{\n",
       "            background-color:  #64b164;\n",
       "            color:  #000000;\n",
       "        }#T_355c4cea_3d17_11eb_8d8a_3b0ecf7ed177row3_col3{\n",
       "            background-color:  #a1cfa1;\n",
       "            color:  #000000;\n",
       "        }#T_355c4cea_3d17_11eb_8d8a_3b0ecf7ed177row3_col4{\n",
       "            background-color:  #a5d1a5;\n",
       "            color:  #000000;\n",
       "        }#T_355c4cea_3d17_11eb_8d8a_3b0ecf7ed177row3_col5{\n",
       "            background-color:  #61af61;\n",
       "            color:  #000000;\n",
       "        }#T_355c4cea_3d17_11eb_8d8a_3b0ecf7ed177row4_col1,#T_355c4cea_3d17_11eb_8d8a_3b0ecf7ed177row5_col1,#T_355c4cea_3d17_11eb_8d8a_3b0ecf7ed177row11_col5,#T_355c4cea_3d17_11eb_8d8a_3b0ecf7ed177row14_col1,#T_355c4cea_3d17_11eb_8d8a_3b0ecf7ed177row15_col1{\n",
       "            background-color:  #d5e9d5;\n",
       "            color:  #000000;\n",
       "        }#T_355c4cea_3d17_11eb_8d8a_3b0ecf7ed177row4_col3,#T_355c4cea_3d17_11eb_8d8a_3b0ecf7ed177row5_col3{\n",
       "            background-color:  #b4d8b4;\n",
       "            color:  #000000;\n",
       "        }#T_355c4cea_3d17_11eb_8d8a_3b0ecf7ed177row4_col4,#T_355c4cea_3d17_11eb_8d8a_3b0ecf7ed177row5_col4{\n",
       "            background-color:  #b8dab8;\n",
       "            color:  #000000;\n",
       "        }#T_355c4cea_3d17_11eb_8d8a_3b0ecf7ed177row4_col5,#T_355c4cea_3d17_11eb_8d8a_3b0ecf7ed177row5_col5{\n",
       "            background-color:  #46a246;\n",
       "            color:  #000000;\n",
       "        }#T_355c4cea_3d17_11eb_8d8a_3b0ecf7ed177row6_col1,#T_355c4cea_3d17_11eb_8d8a_3b0ecf7ed177row7_col1,#T_355c4cea_3d17_11eb_8d8a_3b0ecf7ed177row16_col1,#T_355c4cea_3d17_11eb_8d8a_3b0ecf7ed177row17_col1{\n",
       "            background-color:  #77ba77;\n",
       "            color:  #000000;\n",
       "        }#T_355c4cea_3d17_11eb_8d8a_3b0ecf7ed177row6_col3,#T_355c4cea_3d17_11eb_8d8a_3b0ecf7ed177row16_col4,#T_355c4cea_3d17_11eb_8d8a_3b0ecf7ed177row17_col3{\n",
       "            background-color:  #deedde;\n",
       "            color:  #000000;\n",
       "        }#T_355c4cea_3d17_11eb_8d8a_3b0ecf7ed177row6_col4,#T_355c4cea_3d17_11eb_8d8a_3b0ecf7ed177row17_col4{\n",
       "            background-color:  #dfeddf;\n",
       "            color:  #000000;\n",
       "        }#T_355c4cea_3d17_11eb_8d8a_3b0ecf7ed177row6_col5,#T_355c4cea_3d17_11eb_8d8a_3b0ecf7ed177row16_col5{\n",
       "            background-color:  #128912;\n",
       "            color:  #f1f1f1;\n",
       "        }#T_355c4cea_3d17_11eb_8d8a_3b0ecf7ed177row7_col3,#T_355c4cea_3d17_11eb_8d8a_3b0ecf7ed177row7_col4{\n",
       "            background-color:  #e0eedf;\n",
       "            color:  #000000;\n",
       "        }#T_355c4cea_3d17_11eb_8d8a_3b0ecf7ed177row7_col5,#T_355c4cea_3d17_11eb_8d8a_3b0ecf7ed177row10_col3{\n",
       "            background-color:  #0f870f;\n",
       "            color:  #f1f1f1;\n",
       "        }#T_355c4cea_3d17_11eb_8d8a_3b0ecf7ed177row8_col3,#T_355c4cea_3d17_11eb_8d8a_3b0ecf7ed177row8_col4{\n",
       "            background-color:  #e4f0e4;\n",
       "            color:  #000000;\n",
       "        }#T_355c4cea_3d17_11eb_8d8a_3b0ecf7ed177row8_col5{\n",
       "            background-color:  #098509;\n",
       "            color:  #f1f1f1;\n",
       "        }#T_355c4cea_3d17_11eb_8d8a_3b0ecf7ed177row9_col3{\n",
       "            background-color:  #eaf2ea;\n",
       "            color:  #000000;\n",
       "        }#T_355c4cea_3d17_11eb_8d8a_3b0ecf7ed177row9_col4{\n",
       "            background-color:  #e9f2e9;\n",
       "            color:  #000000;\n",
       "        }#T_355c4cea_3d17_11eb_8d8a_3b0ecf7ed177row9_col5{\n",
       "            background-color:  #068306;\n",
       "            color:  #f1f1f1;\n",
       "        }#T_355c4cea_3d17_11eb_8d8a_3b0ecf7ed177row10_col4,#T_355c4cea_3d17_11eb_8d8a_3b0ecf7ed177row17_col5{\n",
       "            background-color:  #118911;\n",
       "            color:  #f1f1f1;\n",
       "        }#T_355c4cea_3d17_11eb_8d8a_3b0ecf7ed177row10_col5{\n",
       "            background-color:  #dbebdb;\n",
       "            color:  #000000;\n",
       "        }#T_355c4cea_3d17_11eb_8d8a_3b0ecf7ed177row11_col3{\n",
       "            background-color:  #168b16;\n",
       "            color:  #000000;\n",
       "        }#T_355c4cea_3d17_11eb_8d8a_3b0ecf7ed177row11_col4{\n",
       "            background-color:  #198c19;\n",
       "            color:  #000000;\n",
       "        }#T_355c4cea_3d17_11eb_8d8a_3b0ecf7ed177row12_col4,#T_355c4cea_3d17_11eb_8d8a_3b0ecf7ed177row13_col3{\n",
       "            background-color:  #a3d0a3;\n",
       "            color:  #000000;\n",
       "        }#T_355c4cea_3d17_11eb_8d8a_3b0ecf7ed177row12_col5{\n",
       "            background-color:  #65b265;\n",
       "            color:  #000000;\n",
       "        }#T_355c4cea_3d17_11eb_8d8a_3b0ecf7ed177row13_col4{\n",
       "            background-color:  #a6d2a6;\n",
       "            color:  #000000;\n",
       "        }#T_355c4cea_3d17_11eb_8d8a_3b0ecf7ed177row13_col5{\n",
       "            background-color:  #5cad5c;\n",
       "            color:  #000000;\n",
       "        }#T_355c4cea_3d17_11eb_8d8a_3b0ecf7ed177row14_col3{\n",
       "            background-color:  #b3d8b3;\n",
       "            color:  #000000;\n",
       "        }#T_355c4cea_3d17_11eb_8d8a_3b0ecf7ed177row14_col4,#T_355c4cea_3d17_11eb_8d8a_3b0ecf7ed177row15_col3{\n",
       "            background-color:  #b6d9b6;\n",
       "            color:  #000000;\n",
       "        }#T_355c4cea_3d17_11eb_8d8a_3b0ecf7ed177row14_col5{\n",
       "            background-color:  #4ba54a;\n",
       "            color:  #000000;\n",
       "        }#T_355c4cea_3d17_11eb_8d8a_3b0ecf7ed177row15_col4{\n",
       "            background-color:  #b9dbb9;\n",
       "            color:  #000000;\n",
       "        }#T_355c4cea_3d17_11eb_8d8a_3b0ecf7ed177row15_col5{\n",
       "            background-color:  #45a245;\n",
       "            color:  #000000;\n",
       "        }#T_355c4cea_3d17_11eb_8d8a_3b0ecf7ed177row16_col3{\n",
       "            background-color:  #ddecdd;\n",
       "            color:  #000000;\n",
       "        }#T_355c4cea_3d17_11eb_8d8a_3b0ecf7ed177row18_col3,#T_355c4cea_3d17_11eb_8d8a_3b0ecf7ed177row18_col4{\n",
       "            background-color:  #e7f1e7;\n",
       "            color:  #000000;\n",
       "        }#T_355c4cea_3d17_11eb_8d8a_3b0ecf7ed177row18_col5{\n",
       "            background-color:  #058205;\n",
       "            color:  #f1f1f1;\n",
       "        }</style><table id=\"T_355c4cea_3d17_11eb_8d8a_3b0ecf7ed177\" ><thead>    <tr>        <th class=\"blank level0\" ></th>        <th class=\"col_heading level0 col0\" >nesterov</th>        <th class=\"col_heading level0 col1\" >learning_rate</th>        <th class=\"col_heading level0 col2\" >momentum</th>        <th class=\"col_heading level0 col3\" >test_loss</th>        <th class=\"col_heading level0 col4\" >test_mse</th>        <th class=\"col_heading level0 col5\" >test_accuracy</th>    </tr></thead><tbody>\n",
       "                <tr>\n",
       "                        <th id=\"T_355c4cea_3d17_11eb_8d8a_3b0ecf7ed177level0_row0\" class=\"row_heading level0 row0\" >0</th>\n",
       "                        <td id=\"T_355c4cea_3d17_11eb_8d8a_3b0ecf7ed177row0_col0\" class=\"data row0 col0\" >True</td>\n",
       "                        <td id=\"T_355c4cea_3d17_11eb_8d8a_3b0ecf7ed177row0_col1\" class=\"data row0 col1\" >0.010000</td>\n",
       "                        <td id=\"T_355c4cea_3d17_11eb_8d8a_3b0ecf7ed177row0_col2\" class=\"data row0 col2\" >0.000000</td>\n",
       "                        <td id=\"T_355c4cea_3d17_11eb_8d8a_3b0ecf7ed177row0_col3\" class=\"data row0 col3\" >0.131866</td>\n",
       "                        <td id=\"T_355c4cea_3d17_11eb_8d8a_3b0ecf7ed177row0_col4\" class=\"data row0 col4\" >0.035271</td>\n",
       "                        <td id=\"T_355c4cea_3d17_11eb_8d8a_3b0ecf7ed177row0_col5\" class=\"data row0 col5\" >0.829100</td>\n",
       "            </tr>\n",
       "            <tr>\n",
       "                        <th id=\"T_355c4cea_3d17_11eb_8d8a_3b0ecf7ed177level0_row1\" class=\"row_heading level0 row1\" >1</th>\n",
       "                        <td id=\"T_355c4cea_3d17_11eb_8d8a_3b0ecf7ed177row1_col0\" class=\"data row1 col0\" >True</td>\n",
       "                        <td id=\"T_355c4cea_3d17_11eb_8d8a_3b0ecf7ed177row1_col1\" class=\"data row1 col1\" >0.010000</td>\n",
       "                        <td id=\"T_355c4cea_3d17_11eb_8d8a_3b0ecf7ed177row1_col2\" class=\"data row1 col2\" >0.100000</td>\n",
       "                        <td id=\"T_355c4cea_3d17_11eb_8d8a_3b0ecf7ed177row1_col3\" class=\"data row1 col3\" >0.119838</td>\n",
       "                        <td id=\"T_355c4cea_3d17_11eb_8d8a_3b0ecf7ed177row1_col4\" class=\"data row1 col4\" >0.031615</td>\n",
       "                        <td id=\"T_355c4cea_3d17_11eb_8d8a_3b0ecf7ed177row1_col5\" class=\"data row1 col5\" >0.845800</td>\n",
       "            </tr>\n",
       "            <tr>\n",
       "                        <th id=\"T_355c4cea_3d17_11eb_8d8a_3b0ecf7ed177level0_row2\" class=\"row_heading level0 row2\" >2</th>\n",
       "                        <td id=\"T_355c4cea_3d17_11eb_8d8a_3b0ecf7ed177row2_col0\" class=\"data row2 col0\" >True</td>\n",
       "                        <td id=\"T_355c4cea_3d17_11eb_8d8a_3b0ecf7ed177row2_col1\" class=\"data row2 col1\" >0.050000</td>\n",
       "                        <td id=\"T_355c4cea_3d17_11eb_8d8a_3b0ecf7ed177row2_col2\" class=\"data row2 col2\" >0.000000</td>\n",
       "                        <td id=\"T_355c4cea_3d17_11eb_8d8a_3b0ecf7ed177row2_col3\" class=\"data row2 col3\" >0.051939</td>\n",
       "                        <td id=\"T_355c4cea_3d17_11eb_8d8a_3b0ecf7ed177row2_col4\" class=\"data row2 col4\" >0.013403</td>\n",
       "                        <td id=\"T_355c4cea_3d17_11eb_8d8a_3b0ecf7ed177row2_col5\" class=\"data row2 col5\" >0.913800</td>\n",
       "            </tr>\n",
       "            <tr>\n",
       "                        <th id=\"T_355c4cea_3d17_11eb_8d8a_3b0ecf7ed177level0_row3\" class=\"row_heading level0 row3\" >3</th>\n",
       "                        <td id=\"T_355c4cea_3d17_11eb_8d8a_3b0ecf7ed177row3_col0\" class=\"data row3 col0\" >True</td>\n",
       "                        <td id=\"T_355c4cea_3d17_11eb_8d8a_3b0ecf7ed177row3_col1\" class=\"data row3 col1\" >0.050000</td>\n",
       "                        <td id=\"T_355c4cea_3d17_11eb_8d8a_3b0ecf7ed177row3_col2\" class=\"data row3 col2\" >0.100000</td>\n",
       "                        <td id=\"T_355c4cea_3d17_11eb_8d8a_3b0ecf7ed177row3_col3\" class=\"data row3 col3\" >0.050904</td>\n",
       "                        <td id=\"T_355c4cea_3d17_11eb_8d8a_3b0ecf7ed177row3_col4\" class=\"data row3 col4\" >0.013055</td>\n",
       "                        <td id=\"T_355c4cea_3d17_11eb_8d8a_3b0ecf7ed177row3_col5\" class=\"data row3 col5\" >0.915700</td>\n",
       "            </tr>\n",
       "            <tr>\n",
       "                        <th id=\"T_355c4cea_3d17_11eb_8d8a_3b0ecf7ed177level0_row4\" class=\"row_heading level0 row4\" >4</th>\n",
       "                        <td id=\"T_355c4cea_3d17_11eb_8d8a_3b0ecf7ed177row4_col0\" class=\"data row4 col0\" >True</td>\n",
       "                        <td id=\"T_355c4cea_3d17_11eb_8d8a_3b0ecf7ed177row4_col1\" class=\"data row4 col1\" >0.100000</td>\n",
       "                        <td id=\"T_355c4cea_3d17_11eb_8d8a_3b0ecf7ed177row4_col2\" class=\"data row4 col2\" >0.000000</td>\n",
       "                        <td id=\"T_355c4cea_3d17_11eb_8d8a_3b0ecf7ed177row4_col3\" class=\"data row4 col3\" >0.041005</td>\n",
       "                        <td id=\"T_355c4cea_3d17_11eb_8d8a_3b0ecf7ed177row4_col4\" class=\"data row4 col4\" >0.010445</td>\n",
       "                        <td id=\"T_355c4cea_3d17_11eb_8d8a_3b0ecf7ed177row4_col5\" class=\"data row4 col5\" >0.932600</td>\n",
       "            </tr>\n",
       "            <tr>\n",
       "                        <th id=\"T_355c4cea_3d17_11eb_8d8a_3b0ecf7ed177level0_row5\" class=\"row_heading level0 row5\" >5</th>\n",
       "                        <td id=\"T_355c4cea_3d17_11eb_8d8a_3b0ecf7ed177row5_col0\" class=\"data row5 col0\" >True</td>\n",
       "                        <td id=\"T_355c4cea_3d17_11eb_8d8a_3b0ecf7ed177row5_col1\" class=\"data row5 col1\" >0.100000</td>\n",
       "                        <td id=\"T_355c4cea_3d17_11eb_8d8a_3b0ecf7ed177row5_col2\" class=\"data row5 col2\" >0.100000</td>\n",
       "                        <td id=\"T_355c4cea_3d17_11eb_8d8a_3b0ecf7ed177row5_col3\" class=\"data row5 col3\" >0.041161</td>\n",
       "                        <td id=\"T_355c4cea_3d17_11eb_8d8a_3b0ecf7ed177row5_col4\" class=\"data row5 col4\" >0.010522</td>\n",
       "                        <td id=\"T_355c4cea_3d17_11eb_8d8a_3b0ecf7ed177row5_col5\" class=\"data row5 col5\" >0.932400</td>\n",
       "            </tr>\n",
       "            <tr>\n",
       "                        <th id=\"T_355c4cea_3d17_11eb_8d8a_3b0ecf7ed177level0_row6\" class=\"row_heading level0 row6\" >6</th>\n",
       "                        <td id=\"T_355c4cea_3d17_11eb_8d8a_3b0ecf7ed177row6_col0\" class=\"data row6 col0\" >True</td>\n",
       "                        <td id=\"T_355c4cea_3d17_11eb_8d8a_3b0ecf7ed177row6_col1\" class=\"data row6 col1\" >0.500000</td>\n",
       "                        <td id=\"T_355c4cea_3d17_11eb_8d8a_3b0ecf7ed177row6_col2\" class=\"data row6 col2\" >0.000000</td>\n",
       "                        <td id=\"T_355c4cea_3d17_11eb_8d8a_3b0ecf7ed177row6_col3\" class=\"data row6 col3\" >0.020276</td>\n",
       "                        <td id=\"T_355c4cea_3d17_11eb_8d8a_3b0ecf7ed177row6_col4\" class=\"data row6 col4\" >0.005267</td>\n",
       "                        <td id=\"T_355c4cea_3d17_11eb_8d8a_3b0ecf7ed177row6_col5\" class=\"data row6 col5\" >0.965200</td>\n",
       "            </tr>\n",
       "            <tr>\n",
       "                        <th id=\"T_355c4cea_3d17_11eb_8d8a_3b0ecf7ed177level0_row7\" class=\"row_heading level0 row7\" >7</th>\n",
       "                        <td id=\"T_355c4cea_3d17_11eb_8d8a_3b0ecf7ed177row7_col0\" class=\"data row7 col0\" >True</td>\n",
       "                        <td id=\"T_355c4cea_3d17_11eb_8d8a_3b0ecf7ed177row7_col1\" class=\"data row7 col1\" >0.500000</td>\n",
       "                        <td id=\"T_355c4cea_3d17_11eb_8d8a_3b0ecf7ed177row7_col2\" class=\"data row7 col2\" >0.100000</td>\n",
       "                        <td id=\"T_355c4cea_3d17_11eb_8d8a_3b0ecf7ed177row7_col3\" class=\"data row7 col3\" >0.019528</td>\n",
       "                        <td id=\"T_355c4cea_3d17_11eb_8d8a_3b0ecf7ed177row7_col4\" class=\"data row7 col4\" >0.005141</td>\n",
       "                        <td id=\"T_355c4cea_3d17_11eb_8d8a_3b0ecf7ed177row7_col5\" class=\"data row7 col5\" >0.967300</td>\n",
       "            </tr>\n",
       "            <tr>\n",
       "                        <th id=\"T_355c4cea_3d17_11eb_8d8a_3b0ecf7ed177level0_row8\" class=\"row_heading level0 row8\" >8</th>\n",
       "                        <td id=\"T_355c4cea_3d17_11eb_8d8a_3b0ecf7ed177row8_col0\" class=\"data row8 col0\" >True</td>\n",
       "                        <td id=\"T_355c4cea_3d17_11eb_8d8a_3b0ecf7ed177row8_col1\" class=\"data row8 col1\" >1.000000</td>\n",
       "                        <td id=\"T_355c4cea_3d17_11eb_8d8a_3b0ecf7ed177row8_col2\" class=\"data row8 col2\" >0.000000</td>\n",
       "                        <td id=\"T_355c4cea_3d17_11eb_8d8a_3b0ecf7ed177row8_col3\" class=\"data row8 col3\" >0.017266</td>\n",
       "                        <td id=\"T_355c4cea_3d17_11eb_8d8a_3b0ecf7ed177row8_col4\" class=\"data row8 col4\" >0.004537</td>\n",
       "                        <td id=\"T_355c4cea_3d17_11eb_8d8a_3b0ecf7ed177row8_col5\" class=\"data row8 col5\" >0.970900</td>\n",
       "            </tr>\n",
       "            <tr>\n",
       "                        <th id=\"T_355c4cea_3d17_11eb_8d8a_3b0ecf7ed177level0_row9\" class=\"row_heading level0 row9\" >9</th>\n",
       "                        <td id=\"T_355c4cea_3d17_11eb_8d8a_3b0ecf7ed177row9_col0\" class=\"data row9 col0\" >True</td>\n",
       "                        <td id=\"T_355c4cea_3d17_11eb_8d8a_3b0ecf7ed177row9_col1\" class=\"data row9 col1\" >1.000000</td>\n",
       "                        <td id=\"T_355c4cea_3d17_11eb_8d8a_3b0ecf7ed177row9_col2\" class=\"data row9 col2\" >0.100000</td>\n",
       "                        <td id=\"T_355c4cea_3d17_11eb_8d8a_3b0ecf7ed177row9_col3\" class=\"data row9 col3\" >0.014585</td>\n",
       "                        <td id=\"T_355c4cea_3d17_11eb_8d8a_3b0ecf7ed177row9_col4\" class=\"data row9 col4\" >0.003932</td>\n",
       "                        <td id=\"T_355c4cea_3d17_11eb_8d8a_3b0ecf7ed177row9_col5\" class=\"data row9 col5\" >0.973300</td>\n",
       "            </tr>\n",
       "            <tr>\n",
       "                        <th id=\"T_355c4cea_3d17_11eb_8d8a_3b0ecf7ed177level0_row10\" class=\"row_heading level0 row10\" >10</th>\n",
       "                        <td id=\"T_355c4cea_3d17_11eb_8d8a_3b0ecf7ed177row10_col0\" class=\"data row10 col0\" >False</td>\n",
       "                        <td id=\"T_355c4cea_3d17_11eb_8d8a_3b0ecf7ed177row10_col1\" class=\"data row10 col1\" >0.010000</td>\n",
       "                        <td id=\"T_355c4cea_3d17_11eb_8d8a_3b0ecf7ed177row10_col2\" class=\"data row10 col2\" >0.000000</td>\n",
       "                        <td id=\"T_355c4cea_3d17_11eb_8d8a_3b0ecf7ed177row10_col3\" class=\"data row10 col3\" >0.124254</td>\n",
       "                        <td id=\"T_355c4cea_3d17_11eb_8d8a_3b0ecf7ed177row10_col4\" class=\"data row10 col4\" >0.032892</td>\n",
       "                        <td id=\"T_355c4cea_3d17_11eb_8d8a_3b0ecf7ed177row10_col5\" class=\"data row10 col5\" >0.839200</td>\n",
       "            </tr>\n",
       "            <tr>\n",
       "                        <th id=\"T_355c4cea_3d17_11eb_8d8a_3b0ecf7ed177level0_row11\" class=\"row_heading level0 row11\" >11</th>\n",
       "                        <td id=\"T_355c4cea_3d17_11eb_8d8a_3b0ecf7ed177row11_col0\" class=\"data row11 col0\" >False</td>\n",
       "                        <td id=\"T_355c4cea_3d17_11eb_8d8a_3b0ecf7ed177row11_col1\" class=\"data row11 col1\" >0.010000</td>\n",
       "                        <td id=\"T_355c4cea_3d17_11eb_8d8a_3b0ecf7ed177row11_col2\" class=\"data row11 col2\" >0.100000</td>\n",
       "                        <td id=\"T_355c4cea_3d17_11eb_8d8a_3b0ecf7ed177row11_col3\" class=\"data row11 col3\" >0.120432</td>\n",
       "                        <td id=\"T_355c4cea_3d17_11eb_8d8a_3b0ecf7ed177row11_col4\" class=\"data row11 col4\" >0.031835</td>\n",
       "                        <td id=\"T_355c4cea_3d17_11eb_8d8a_3b0ecf7ed177row11_col5\" class=\"data row11 col5\" >0.842600</td>\n",
       "            </tr>\n",
       "            <tr>\n",
       "                        <th id=\"T_355c4cea_3d17_11eb_8d8a_3b0ecf7ed177level0_row12\" class=\"row_heading level0 row12\" >12</th>\n",
       "                        <td id=\"T_355c4cea_3d17_11eb_8d8a_3b0ecf7ed177row12_col0\" class=\"data row12 col0\" >False</td>\n",
       "                        <td id=\"T_355c4cea_3d17_11eb_8d8a_3b0ecf7ed177row12_col1\" class=\"data row12 col1\" >0.050000</td>\n",
       "                        <td id=\"T_355c4cea_3d17_11eb_8d8a_3b0ecf7ed177row12_col2\" class=\"data row12 col2\" >0.000000</td>\n",
       "                        <td id=\"T_355c4cea_3d17_11eb_8d8a_3b0ecf7ed177row12_col3\" class=\"data row12 col3\" >0.051855</td>\n",
       "                        <td id=\"T_355c4cea_3d17_11eb_8d8a_3b0ecf7ed177row12_col4\" class=\"data row12 col4\" >0.013324</td>\n",
       "                        <td id=\"T_355c4cea_3d17_11eb_8d8a_3b0ecf7ed177row12_col5\" class=\"data row12 col5\" >0.913100</td>\n",
       "            </tr>\n",
       "            <tr>\n",
       "                        <th id=\"T_355c4cea_3d17_11eb_8d8a_3b0ecf7ed177level0_row13\" class=\"row_heading level0 row13\" >13</th>\n",
       "                        <td id=\"T_355c4cea_3d17_11eb_8d8a_3b0ecf7ed177row13_col0\" class=\"data row13 col0\" >False</td>\n",
       "                        <td id=\"T_355c4cea_3d17_11eb_8d8a_3b0ecf7ed177row13_col1\" class=\"data row13 col1\" >0.050000</td>\n",
       "                        <td id=\"T_355c4cea_3d17_11eb_8d8a_3b0ecf7ed177row13_col2\" class=\"data row13 col2\" >0.100000</td>\n",
       "                        <td id=\"T_355c4cea_3d17_11eb_8d8a_3b0ecf7ed177row13_col3\" class=\"data row13 col3\" >0.049952</td>\n",
       "                        <td id=\"T_355c4cea_3d17_11eb_8d8a_3b0ecf7ed177row13_col4\" class=\"data row13 col4\" >0.012804</td>\n",
       "                        <td id=\"T_355c4cea_3d17_11eb_8d8a_3b0ecf7ed177row13_col5\" class=\"data row13 col5\" >0.918800</td>\n",
       "            </tr>\n",
       "            <tr>\n",
       "                        <th id=\"T_355c4cea_3d17_11eb_8d8a_3b0ecf7ed177level0_row14\" class=\"row_heading level0 row14\" >14</th>\n",
       "                        <td id=\"T_355c4cea_3d17_11eb_8d8a_3b0ecf7ed177row14_col0\" class=\"data row14 col0\" >False</td>\n",
       "                        <td id=\"T_355c4cea_3d17_11eb_8d8a_3b0ecf7ed177row14_col1\" class=\"data row14 col1\" >0.100000</td>\n",
       "                        <td id=\"T_355c4cea_3d17_11eb_8d8a_3b0ecf7ed177row14_col2\" class=\"data row14 col2\" >0.000000</td>\n",
       "                        <td id=\"T_355c4cea_3d17_11eb_8d8a_3b0ecf7ed177row14_col3\" class=\"data row14 col3\" >0.041611</td>\n",
       "                        <td id=\"T_355c4cea_3d17_11eb_8d8a_3b0ecf7ed177row14_col4\" class=\"data row14 col4\" >0.010714</td>\n",
       "                        <td id=\"T_355c4cea_3d17_11eb_8d8a_3b0ecf7ed177row14_col5\" class=\"data row14 col5\" >0.929900</td>\n",
       "            </tr>\n",
       "            <tr>\n",
       "                        <th id=\"T_355c4cea_3d17_11eb_8d8a_3b0ecf7ed177level0_row15\" class=\"row_heading level0 row15\" >15</th>\n",
       "                        <td id=\"T_355c4cea_3d17_11eb_8d8a_3b0ecf7ed177row15_col0\" class=\"data row15 col0\" >False</td>\n",
       "                        <td id=\"T_355c4cea_3d17_11eb_8d8a_3b0ecf7ed177row15_col1\" class=\"data row15 col1\" >0.100000</td>\n",
       "                        <td id=\"T_355c4cea_3d17_11eb_8d8a_3b0ecf7ed177row15_col2\" class=\"data row15 col2\" >0.100000</td>\n",
       "                        <td id=\"T_355c4cea_3d17_11eb_8d8a_3b0ecf7ed177row15_col3\" class=\"data row15 col3\" >0.040392</td>\n",
       "                        <td id=\"T_355c4cea_3d17_11eb_8d8a_3b0ecf7ed177row15_col4\" class=\"data row15 col4\" >0.010322</td>\n",
       "                        <td id=\"T_355c4cea_3d17_11eb_8d8a_3b0ecf7ed177row15_col5\" class=\"data row15 col5\" >0.933100</td>\n",
       "            </tr>\n",
       "            <tr>\n",
       "                        <th id=\"T_355c4cea_3d17_11eb_8d8a_3b0ecf7ed177level0_row16\" class=\"row_heading level0 row16\" >16</th>\n",
       "                        <td id=\"T_355c4cea_3d17_11eb_8d8a_3b0ecf7ed177row16_col0\" class=\"data row16 col0\" >False</td>\n",
       "                        <td id=\"T_355c4cea_3d17_11eb_8d8a_3b0ecf7ed177row16_col1\" class=\"data row16 col1\" >0.500000</td>\n",
       "                        <td id=\"T_355c4cea_3d17_11eb_8d8a_3b0ecf7ed177row16_col2\" class=\"data row16 col2\" >0.000000</td>\n",
       "                        <td id=\"T_355c4cea_3d17_11eb_8d8a_3b0ecf7ed177row16_col3\" class=\"data row16 col3\" >0.020877</td>\n",
       "                        <td id=\"T_355c4cea_3d17_11eb_8d8a_3b0ecf7ed177row16_col4\" class=\"data row16 col4\" >0.005370</td>\n",
       "                        <td id=\"T_355c4cea_3d17_11eb_8d8a_3b0ecf7ed177row16_col5\" class=\"data row16 col5\" >0.964800</td>\n",
       "            </tr>\n",
       "            <tr>\n",
       "                        <th id=\"T_355c4cea_3d17_11eb_8d8a_3b0ecf7ed177level0_row17\" class=\"row_heading level0 row17\" >17</th>\n",
       "                        <td id=\"T_355c4cea_3d17_11eb_8d8a_3b0ecf7ed177row17_col0\" class=\"data row17 col0\" >False</td>\n",
       "                        <td id=\"T_355c4cea_3d17_11eb_8d8a_3b0ecf7ed177row17_col1\" class=\"data row17 col1\" >0.500000</td>\n",
       "                        <td id=\"T_355c4cea_3d17_11eb_8d8a_3b0ecf7ed177row17_col2\" class=\"data row17 col2\" >0.100000</td>\n",
       "                        <td id=\"T_355c4cea_3d17_11eb_8d8a_3b0ecf7ed177row17_col3\" class=\"data row17 col3\" >0.020250</td>\n",
       "                        <td id=\"T_355c4cea_3d17_11eb_8d8a_3b0ecf7ed177row17_col4\" class=\"data row17 col4\" >0.005299</td>\n",
       "                        <td id=\"T_355c4cea_3d17_11eb_8d8a_3b0ecf7ed177row17_col5\" class=\"data row17 col5\" >0.965500</td>\n",
       "            </tr>\n",
       "            <tr>\n",
       "                        <th id=\"T_355c4cea_3d17_11eb_8d8a_3b0ecf7ed177level0_row18\" class=\"row_heading level0 row18\" >18</th>\n",
       "                        <td id=\"T_355c4cea_3d17_11eb_8d8a_3b0ecf7ed177row18_col0\" class=\"data row18 col0\" >False</td>\n",
       "                        <td id=\"T_355c4cea_3d17_11eb_8d8a_3b0ecf7ed177row18_col1\" class=\"data row18 col1\" >1.000000</td>\n",
       "                        <td id=\"T_355c4cea_3d17_11eb_8d8a_3b0ecf7ed177row18_col2\" class=\"data row18 col2\" >0.000000</td>\n",
       "                        <td id=\"T_355c4cea_3d17_11eb_8d8a_3b0ecf7ed177row18_col3\" class=\"data row18 col3\" >0.015737</td>\n",
       "                        <td id=\"T_355c4cea_3d17_11eb_8d8a_3b0ecf7ed177row18_col4\" class=\"data row18 col4\" >0.004190</td>\n",
       "                        <td id=\"T_355c4cea_3d17_11eb_8d8a_3b0ecf7ed177row18_col5\" class=\"data row18 col5\" >0.973400</td>\n",
       "            </tr>\n",
       "            <tr>\n",
       "                        <th id=\"T_355c4cea_3d17_11eb_8d8a_3b0ecf7ed177level0_row19\" class=\"row_heading level0 row19\" >19</th>\n",
       "                        <td id=\"T_355c4cea_3d17_11eb_8d8a_3b0ecf7ed177row19_col0\" class=\"data row19 col0\" >False</td>\n",
       "                        <td id=\"T_355c4cea_3d17_11eb_8d8a_3b0ecf7ed177row19_col1\" class=\"data row19 col1\" >1.000000</td>\n",
       "                        <td id=\"T_355c4cea_3d17_11eb_8d8a_3b0ecf7ed177row19_col2\" class=\"data row19 col2\" >0.100000</td>\n",
       "                        <td id=\"T_355c4cea_3d17_11eb_8d8a_3b0ecf7ed177row19_col3\" class=\"data row19 col3\" >0.013663</td>\n",
       "                        <td id=\"T_355c4cea_3d17_11eb_8d8a_3b0ecf7ed177row19_col4\" class=\"data row19 col4\" >0.003632</td>\n",
       "                        <td id=\"T_355c4cea_3d17_11eb_8d8a_3b0ecf7ed177row19_col5\" class=\"data row19 col5\" >0.976800</td>\n",
       "            </tr>\n",
       "    </tbody></table>"
      ],
      "text/plain": [
       "<pandas.io.formats.style.Styler at 0x7f7630783c70>"
      ]
     },
     "execution_count": 20,
     "metadata": {},
     "output_type": "execute_result"
    }
   ],
   "source": [
    "cm = sns.light_palette(\"green\", as_cmap=True)\n",
    "SGD_statistics.style.background_gradient(cmap=cm)"
   ]
  },
  {
   "cell_type": "code",
   "execution_count": null,
   "metadata": {},
   "outputs": [],
   "source": [
    "# Вывод - по большому счету значение имеет только learning rate"
   ]
  },
  {
   "cell_type": "markdown",
   "metadata": {},
   "source": [
    "# Задание 2\n",
    "1. Переделать модель в Functional API\n",
    "2. Добавить логирование в Tensorboard, early stopping callback\n",
    "3. Протестировать:\n",
    "        3.1. +Adagrad, Adam\n",
    "        3.2. Добавление BatchNorm/Dropout\n",
    "4. kerastuner "
   ]
  },
  {
   "cell_type": "code",
   "execution_count": 21,
   "metadata": {},
   "outputs": [],
   "source": [
    "task2_statistics = pd.DataFrame(columns=['name', 'test_loss', 'test_mse', 'test_accuracy'])\n",
    "k = 0"
   ]
  },
  {
   "cell_type": "markdown",
   "metadata": {},
   "source": [
    "## Functional API"
   ]
  },
  {
   "cell_type": "code",
   "execution_count": 22,
   "metadata": {},
   "outputs": [
    {
     "name": "stdout",
     "output_type": "stream",
     "text": [
      "Epoch 1/5\n",
      "391/391 [==============================] - 2s 5ms/step - loss: 0.3100 - mean_squared_error: 0.0871 - accuracy: 0.3154\n",
      "Epoch 2/5\n",
      "391/391 [==============================] - 2s 5ms/step - loss: 0.2746 - mean_squared_error: 0.0787 - accuracy: 0.6174\n",
      "Epoch 3/5\n",
      "391/391 [==============================] - 2s 5ms/step - loss: 0.2331 - mean_squared_error: 0.0667 - accuracy: 0.7130\n",
      "Epoch 4/5\n",
      "391/391 [==============================] - 2s 5ms/step - loss: 0.1903 - mean_squared_error: 0.0533 - accuracy: 0.7674\n",
      "Epoch 5/5\n",
      "391/391 [==============================] - 2s 5ms/step - loss: 0.1550 - mean_squared_error: 0.0422 - accuracy: 0.8050\n"
     ]
    },
    {
     "data": {
      "text/plain": [
       "<tensorflow.python.keras.callbacks.History at 0x7f765c054220>"
      ]
     },
     "execution_count": 22,
     "metadata": {},
     "output_type": "execute_result"
    }
   ],
   "source": [
    "# Было\n",
    "model = Sequential()\n",
    "model.add(Dense(512, activation='relu', input_shape=(28 * 28,)))\n",
    "model.add(Dense(256, activation='relu'))\n",
    "model.add(Dense(10, activation='softmax'))\n",
    "\n",
    "model.compile(optimizer='sgd',\n",
    "                loss='binary_crossentropy',\n",
    "                metrics = ['mean_squared_error', 'accuracy'])\n",
    "\n",
    "model.fit(X_train, y_train, epochs=5, batch_size=128)"
   ]
  },
  {
   "cell_type": "code",
   "execution_count": 23,
   "metadata": {},
   "outputs": [
    {
     "name": "stdout",
     "output_type": "stream",
     "text": [
      "313/313 [==============================] - 0s 1ms/step - loss: 0.1366 - mean_squared_error: 0.0366 - accuracy: 0.8341\n",
      "Test loss: 0.13656680285930634, test mse: 0.03657831996679306, test accuracy: 0.8341000080108643\n"
     ]
    }
   ],
   "source": [
    "test_loss, test_mse, test_acc = model.evaluate(X_test, y_test)\n",
    "print(f'Test loss: {test_loss}, test mse: {test_mse}, test accuracy: {test_acc}')"
   ]
  },
  {
   "cell_type": "code",
   "execution_count": 24,
   "metadata": {},
   "outputs": [],
   "source": [
    "from keras.layers import Input\n",
    "from keras.models import Model"
   ]
  },
  {
   "cell_type": "code",
   "execution_count": 25,
   "metadata": {},
   "outputs": [
    {
     "name": "stdout",
     "output_type": "stream",
     "text": [
      "Epoch 1/5\n",
      "391/391 [==============================] - 2s 5ms/step - loss: 0.3060 - mean_squared_error: 0.0860 - accuracy: 0.3045\n",
      "Epoch 2/5\n",
      "391/391 [==============================] - 2s 5ms/step - loss: 0.2646 - mean_squared_error: 0.0756 - accuracy: 0.6112\n",
      "Epoch 3/5\n",
      "391/391 [==============================] - 2s 5ms/step - loss: 0.2203 - mean_squared_error: 0.0628 - accuracy: 0.7203\n",
      "Epoch 4/5\n",
      "391/391 [==============================] - 2s 5ms/step - loss: 0.1791 - mean_squared_error: 0.0499 - accuracy: 0.7730\n",
      "Epoch 5/5\n",
      "391/391 [==============================] - 2s 5ms/step - loss: 0.1474 - mean_squared_error: 0.0401 - accuracy: 0.8075\n"
     ]
    },
    {
     "data": {
      "text/plain": [
       "<tensorflow.python.keras.callbacks.History at 0x7f767f85da00>"
      ]
     },
     "execution_count": 25,
     "metadata": {},
     "output_type": "execute_result"
    }
   ],
   "source": [
    "# Стало\n",
    "input1 = Input(shape=(28 * 28,))\n",
    "hidden1 = Dense(512, activation='relu')(input1)\n",
    "hidden2 = Dense(256, activation='relu')(hidden1)\n",
    "output = Dense(10, activation='softmax')(hidden2)\n",
    "model = Model(inputs=input1, outputs=output)\n",
    "\n",
    "model.compile(optimizer='sgd',\n",
    "                loss='binary_crossentropy',\n",
    "                metrics = ['mean_squared_error', 'accuracy'])\n",
    "model.fit(X_train, y_train, epochs=5, batch_size=128)"
   ]
  },
  {
   "cell_type": "code",
   "execution_count": 26,
   "metadata": {},
   "outputs": [
    {
     "name": "stdout",
     "output_type": "stream",
     "text": [
      "313/313 [==============================] - 0s 1ms/step - loss: 0.1309 - mean_squared_error: 0.0350 - accuracy: 0.8295\n",
      "Test loss: 0.13094285130500793, test mse: 0.035044047981500626, test accuracy: 0.8295000195503235\n"
     ]
    }
   ],
   "source": [
    "test_loss, test_mse, test_acc = model.evaluate(X_test, y_test)\n",
    "print(f'Test loss: {test_loss}, test mse: {test_mse}, test accuracy: {test_acc}')"
   ]
  },
  {
   "cell_type": "markdown",
   "metadata": {},
   "source": [
    "## Tensorboard, early stopping callback"
   ]
  },
  {
   "cell_type": "code",
   "execution_count": 27,
   "metadata": {},
   "outputs": [],
   "source": [
    "import datetime\n",
    "import tensorflow as tf"
   ]
  },
  {
   "cell_type": "code",
   "execution_count": 28,
   "metadata": {
    "scrolled": true
   },
   "outputs": [
    {
     "name": "stdout",
     "output_type": "stream",
     "text": [
      "Epoch 1/50\n",
      "1563/1563 [==============================] - 6s 4ms/step - loss: 0.2465 - mean_squared_error: 0.0699 - accuracy: 0.6023 - val_loss: 0.1618 - val_mean_squared_error: 0.0445 - val_accuracy: 0.8105\n",
      "Epoch 2/50\n",
      "1563/1563 [==============================] - 6s 4ms/step - loss: 0.1232 - mean_squared_error: 0.0330 - accuracy: 0.8367 - val_loss: 0.0911 - val_mean_squared_error: 0.0234 - val_accuracy: 0.8713\n",
      "Epoch 3/50\n",
      "1563/1563 [==============================] - 6s 4ms/step - loss: 0.0842 - mean_squared_error: 0.0219 - accuracy: 0.8733 - val_loss: 0.0706 - val_mean_squared_error: 0.0180 - val_accuracy: 0.8932\n",
      "Epoch 4/50\n",
      "1563/1563 [==============================] - 6s 4ms/step - loss: 0.0701 - mean_squared_error: 0.0182 - accuracy: 0.8877 - val_loss: 0.0619 - val_mean_squared_error: 0.0158 - val_accuracy: 0.9010\n",
      "Epoch 5/50\n",
      "1563/1563 [==============================] - 5s 3ms/step - loss: 0.0629 - mean_squared_error: 0.0163 - accuracy: 0.8965 - val_loss: 0.0561 - val_mean_squared_error: 0.0143 - val_accuracy: 0.9097\n",
      "Epoch 6/50\n",
      "1563/1563 [==============================] - 5s 3ms/step - loss: 0.0582 - mean_squared_error: 0.0151 - accuracy: 0.9025 - val_loss: 0.0528 - val_mean_squared_error: 0.0135 - val_accuracy: 0.9137\n",
      "Epoch 7/50\n",
      "1563/1563 [==============================] - 5s 3ms/step - loss: 0.0548 - mean_squared_error: 0.0142 - accuracy: 0.9082 - val_loss: 0.0500 - val_mean_squared_error: 0.0128 - val_accuracy: 0.9174\n",
      "Epoch 8/50\n",
      "1563/1563 [==============================] - 5s 4ms/step - loss: 0.0522 - mean_squared_error: 0.0135 - accuracy: 0.9124 - val_loss: 0.0479 - val_mean_squared_error: 0.0123 - val_accuracy: 0.9209\n",
      "Epoch 9/50\n",
      "1563/1563 [==============================] - 5s 3ms/step - loss: 0.0500 - mean_squared_error: 0.0129 - accuracy: 0.9161 - val_loss: 0.0461 - val_mean_squared_error: 0.0118 - val_accuracy: 0.9230\n",
      "Epoch 10/50\n",
      "1563/1563 [==============================] - 6s 4ms/step - loss: 0.0481 - mean_squared_error: 0.0124 - accuracy: 0.9194 - val_loss: 0.0446 - val_mean_squared_error: 0.0114 - val_accuracy: 0.9267\n",
      "Epoch 11/50\n",
      "1563/1563 [==============================] - 6s 4ms/step - loss: 0.0465 - mean_squared_error: 0.0120 - accuracy: 0.9224 - val_loss: 0.0434 - val_mean_squared_error: 0.0111 - val_accuracy: 0.9285\n",
      "Epoch 12/50\n",
      "1563/1563 [==============================] - 6s 4ms/step - loss: 0.0450 - mean_squared_error: 0.0116 - accuracy: 0.9249 - val_loss: 0.0421 - val_mean_squared_error: 0.0108 - val_accuracy: 0.9306\n",
      "Epoch 13/50\n",
      "1563/1563 [==============================] - 6s 4ms/step - loss: 0.0437 - mean_squared_error: 0.0112 - accuracy: 0.9273 - val_loss: 0.0411 - val_mean_squared_error: 0.0105 - val_accuracy: 0.9308\n",
      "Epoch 14/50\n",
      "1563/1563 [==============================] - 6s 4ms/step - loss: 0.0425 - mean_squared_error: 0.0109 - accuracy: 0.9292 - val_loss: 0.0402 - val_mean_squared_error: 0.0103 - val_accuracy: 0.9331\n"
     ]
    }
   ],
   "source": [
    "input1 = Input(shape=(28 * 28,))\n",
    "hidden1 = Dense(512, activation='relu')(input1)\n",
    "hidden2 = Dense(256, activation='relu')(hidden1)\n",
    "output = Dense(10, activation='softmax')(hidden2)\n",
    "model = Model(inputs=input1, outputs=output)\n",
    "\n",
    "model.compile(optimizer='sgd',\n",
    "                loss='binary_crossentropy',\n",
    "                metrics = ['mean_squared_error', 'accuracy'])\n",
    "\n",
    "log_dir = \"logs/fit/\" + datetime.datetime.now().strftime(\"%Y%m%d-%H%M%S\")\n",
    "tensorboard_callback = tf.keras.callbacks.TensorBoard(log_dir=log_dir, histogram_freq=1)\n",
    "early_stopping_callback = keras.callbacks.EarlyStopping(monitor='val_loss', min_delta=0.001)\n",
    "\n",
    "history = model.fit(X_train, y_train, epochs=50, validation_data=(X_test, y_test), \n",
    "                    callbacks=[tensorboard_callback, early_stopping_callback])"
   ]
  },
  {
   "cell_type": "code",
   "execution_count": 29,
   "metadata": {},
   "outputs": [
    {
     "name": "stdout",
     "output_type": "stream",
     "text": [
      "313/313 [==============================] - 0s 2ms/step - loss: 0.0402 - mean_squared_error: 0.0103 - accuracy: 0.9331\n",
      "Test loss: 0.04019411653280258, test mse: 0.010297681204974651, test accuracy: 0.9330999851226807\n"
     ]
    }
   ],
   "source": [
    "test_loss, test_mse, test_acc = model.evaluate(X_test, y_test)\n",
    "print(f'Test loss: {test_loss}, test mse: {test_mse}, test accuracy: {test_acc}')\n",
    "task2_statistics.loc[k] = ['early_stopping_callback', test_loss, test_mse, test_acc]\n",
    "k+=1"
   ]
  },
  {
   "cell_type": "code",
   "execution_count": null,
   "metadata": {},
   "outputs": [],
   "source": []
  },
  {
   "cell_type": "code",
   "execution_count": 30,
   "metadata": {},
   "outputs": [
    {
     "data": {
      "text/plain": [
       "Reusing TensorBoard on port 6006 (pid 190860), started 0:29:07 ago. (Use '!kill 190860' to kill it.)"
      ]
     },
     "metadata": {},
     "output_type": "display_data"
    },
    {
     "data": {
      "text/html": [
       "\n",
       "      <iframe id=\"tensorboard-frame-7d316ea4efad42ab\" width=\"100%\" height=\"800\" frameborder=\"0\">\n",
       "      </iframe>\n",
       "      <script>\n",
       "        (function() {\n",
       "          const frame = document.getElementById(\"tensorboard-frame-7d316ea4efad42ab\");\n",
       "          const url = new URL(\"/\", window.location);\n",
       "          url.port = 6006;\n",
       "          frame.src = url;\n",
       "        })();\n",
       "      </script>\n",
       "  "
      ],
      "text/plain": [
       "<IPython.core.display.HTML object>"
      ]
     },
     "metadata": {},
     "output_type": "display_data"
    }
   ],
   "source": [
    "%load_ext tensorboard\n",
    "%tensorboard --logdir logs/fit"
   ]
  },
  {
   "cell_type": "markdown",
   "metadata": {},
   "source": [
    "## Agagrad, Adam"
   ]
  },
  {
   "cell_type": "code",
   "execution_count": 31,
   "metadata": {},
   "outputs": [
    {
     "name": "stdout",
     "output_type": "stream",
     "text": [
      "Epoch 1/50\n",
      "1563/1563 [==============================] - 7s 4ms/step - loss: 0.0609 - mean_squared_error: 0.0159 - accuracy: 0.9015 - val_loss: 0.0413 - val_mean_squared_error: 0.0105 - val_accuracy: 0.9331\n",
      "Epoch 2/50\n",
      "1563/1563 [==============================] - 6s 4ms/step - loss: 0.0405 - mean_squared_error: 0.0103 - accuracy: 0.9335 - val_loss: 0.0364 - val_mean_squared_error: 0.0093 - val_accuracy: 0.9395\n",
      "Epoch 3/50\n",
      "1563/1563 [==============================] - 7s 4ms/step - loss: 0.0357 - mean_squared_error: 0.0091 - accuracy: 0.9415 - val_loss: 0.0330 - val_mean_squared_error: 0.0084 - val_accuracy: 0.9453\n",
      "Epoch 4/50\n",
      "1563/1563 [==============================] - 7s 4ms/step - loss: 0.0327 - mean_squared_error: 0.0083 - accuracy: 0.9467 - val_loss: 0.0311 - val_mean_squared_error: 0.0079 - val_accuracy: 0.9500\n",
      "Epoch 5/50\n",
      "1563/1563 [==============================] - 6s 4ms/step - loss: 0.0305 - mean_squared_error: 0.0077 - accuracy: 0.9502 - val_loss: 0.0295 - val_mean_squared_error: 0.0075 - val_accuracy: 0.9508\n",
      "Epoch 6/50\n",
      "1563/1563 [==============================] - 6s 4ms/step - loss: 0.0288 - mean_squared_error: 0.0073 - accuracy: 0.9530 - val_loss: 0.0285 - val_mean_squared_error: 0.0073 - val_accuracy: 0.9530\n",
      "Epoch 7/50\n",
      "1563/1563 [==============================] - 6s 4ms/step - loss: 0.0274 - mean_squared_error: 0.0069 - accuracy: 0.9555 - val_loss: 0.0273 - val_mean_squared_error: 0.0070 - val_accuracy: 0.9549\n",
      "Epoch 8/50\n",
      "1563/1563 [==============================] - 6s 4ms/step - loss: 0.0263 - mean_squared_error: 0.0066 - accuracy: 0.9570 - val_loss: 0.0265 - val_mean_squared_error: 0.0068 - val_accuracy: 0.9555\n"
     ]
    }
   ],
   "source": [
    "input1 = Input(shape=(28 * 28,))\n",
    "hidden1 = Dense(512, activation='relu')(input1)\n",
    "hidden2 = Dense(256, activation='relu')(hidden1)\n",
    "output = Dense(10, activation='softmax')(hidden2)\n",
    "model = Model(inputs=input1, outputs=output)\n",
    "\n",
    "model.compile(optimizer='Adagrad',\n",
    "                loss='binary_crossentropy',\n",
    "                metrics = ['mean_squared_error', 'accuracy'])\n",
    "\n",
    "log_dir = \"logs/fit/\" + datetime.datetime.now().strftime(\"%Y%m%d-%H%M%S\")\n",
    "tensorboard_callback = tf.keras.callbacks.TensorBoard(log_dir=log_dir, histogram_freq=1)\n",
    "early_stopping_callback = keras.callbacks.EarlyStopping(monitor='val_loss', min_delta=0.001)\n",
    "\n",
    "history_adagrad = model.fit(X_train, y_train, epochs=50, validation_data=(X_test, y_test), \n",
    "                    callbacks=[tensorboard_callback, early_stopping_callback])"
   ]
  },
  {
   "cell_type": "code",
   "execution_count": 32,
   "metadata": {},
   "outputs": [
    {
     "name": "stdout",
     "output_type": "stream",
     "text": [
      "313/313 [==============================] - 0s 1ms/step - loss: 0.0265 - mean_squared_error: 0.0068 - accuracy: 0.9555\n",
      "Test loss: 0.026515942066907883, test mse: 0.00676985876634717, test accuracy: 0.9555000066757202\n"
     ]
    }
   ],
   "source": [
    "test_loss, test_mse, test_acc = model.evaluate(X_test, y_test)\n",
    "print(f'Test loss: {test_loss}, test mse: {test_mse}, test accuracy: {test_acc}')\n",
    "task2_statistics.loc[k] = ['adagrad', test_loss, test_mse, test_acc]\n",
    "k+=1"
   ]
  },
  {
   "cell_type": "code",
   "execution_count": 33,
   "metadata": {},
   "outputs": [
    {
     "name": "stdout",
     "output_type": "stream",
     "text": [
      "Epoch 1/50\n",
      "1563/1563 [==============================] - 7s 4ms/step - loss: 0.0353 - mean_squared_error: 0.0094 - accuracy: 0.9377 - val_loss: 0.0250 - val_mean_squared_error: 0.0065 - val_accuracy: 0.9570\n",
      "Epoch 2/50\n",
      "1563/1563 [==============================] - 7s 4ms/step - loss: 0.0157 - mean_squared_error: 0.0042 - accuracy: 0.9727 - val_loss: 0.0157 - val_mean_squared_error: 0.0042 - val_accuracy: 0.9729\n",
      "Epoch 3/50\n",
      "1563/1563 [==============================] - 6s 4ms/step - loss: 0.0103 - mean_squared_error: 0.0027 - accuracy: 0.9825 - val_loss: 0.0144 - val_mean_squared_error: 0.0037 - val_accuracy: 0.9762\n",
      "Epoch 4/50\n",
      "1563/1563 [==============================] - 6s 4ms/step - loss: 0.0087 - mean_squared_error: 0.0023 - accuracy: 0.9849 - val_loss: 0.0108 - val_mean_squared_error: 0.0028 - val_accuracy: 0.9820\n",
      "Epoch 5/50\n",
      "1563/1563 [==============================] - 7s 4ms/step - loss: 0.0065 - mean_squared_error: 0.0017 - accuracy: 0.9886 - val_loss: 0.0166 - val_mean_squared_error: 0.0041 - val_accuracy: 0.9732\n"
     ]
    }
   ],
   "source": [
    "input1 = Input(shape=(28 * 28,))\n",
    "hidden1 = Dense(512, activation='relu')(input1)\n",
    "hidden2 = Dense(256, activation='relu')(hidden1)\n",
    "output = Dense(10, activation='softmax')(hidden2)\n",
    "model = Model(inputs=input1, outputs=output)\n",
    "\n",
    "model.compile(optimizer='Adam',\n",
    "                loss='binary_crossentropy',\n",
    "                metrics = ['mean_squared_error', 'accuracy'])\n",
    "\n",
    "log_dir = \"logs/fit/\" + datetime.datetime.now().strftime(\"%Y%m%d-%H%M%S\")\n",
    "tensorboard_callback = tf.keras.callbacks.TensorBoard(log_dir=log_dir, histogram_freq=1)\n",
    "early_stopping_callback = keras.callbacks.EarlyStopping(monitor='val_loss', min_delta=0.001)\n",
    "\n",
    "history_adam = model.fit(X_train, y_train, epochs=50, validation_data=(X_test, y_test), \n",
    "                    callbacks=[tensorboard_callback, early_stopping_callback])"
   ]
  },
  {
   "cell_type": "code",
   "execution_count": 34,
   "metadata": {},
   "outputs": [
    {
     "name": "stdout",
     "output_type": "stream",
     "text": [
      "313/313 [==============================] - 0s 1ms/step - loss: 0.0166 - mean_squared_error: 0.0041 - accuracy: 0.9732\n",
      "Test loss: 0.016559211537241936, test mse: 0.004141923505812883, test accuracy: 0.9732000231742859\n"
     ]
    }
   ],
   "source": [
    "test_loss, test_mse, test_acc = model.evaluate(X_test, y_test)\n",
    "print(f'Test loss: {test_loss}, test mse: {test_mse}, test accuracy: {test_acc}')\n",
    "task2_statistics.loc[k] = ['adam', test_loss, test_mse, test_acc]\n",
    "k+=1"
   ]
  },
  {
   "cell_type": "markdown",
   "metadata": {},
   "source": [
    "## BatchNorm/Dropout"
   ]
  },
  {
   "cell_type": "code",
   "execution_count": 6,
   "metadata": {},
   "outputs": [],
   "source": [
    "from keras.layers import Dropout, BatchNormalization, Activation"
   ]
  },
  {
   "cell_type": "code",
   "execution_count": 36,
   "metadata": {
    "scrolled": true
   },
   "outputs": [
    {
     "name": "stdout",
     "output_type": "stream",
     "text": [
      "Epoch 1/50\n",
      "1563/1563 [==============================] - 7s 4ms/step - loss: 0.1909 - mean_squared_error: 0.0529 - accuracy: 0.6176 - val_loss: 0.0914 - val_mean_squared_error: 0.0237 - val_accuracy: 0.8645\n",
      "Epoch 2/50\n",
      "1563/1563 [==============================] - 7s 4ms/step - loss: 0.1055 - mean_squared_error: 0.0287 - accuracy: 0.8140 - val_loss: 0.0641 - val_mean_squared_error: 0.0165 - val_accuracy: 0.8980\n",
      "Epoch 3/50\n",
      "1563/1563 [==============================] - 6s 4ms/step - loss: 0.0859 - mean_squared_error: 0.0232 - accuracy: 0.8463 - val_loss: 0.0535 - val_mean_squared_error: 0.0139 - val_accuracy: 0.9126\n",
      "Epoch 4/50\n",
      "1563/1563 [==============================] - 7s 4ms/step - loss: 0.0755 - mean_squared_error: 0.0204 - accuracy: 0.8653 - val_loss: 0.0473 - val_mean_squared_error: 0.0124 - val_accuracy: 0.9214\n",
      "Epoch 5/50\n",
      "1563/1563 [==============================] - 7s 4ms/step - loss: 0.0692 - mean_squared_error: 0.0186 - accuracy: 0.8771 - val_loss: 0.0432 - val_mean_squared_error: 0.0114 - val_accuracy: 0.9268\n",
      "Epoch 6/50\n",
      "1563/1563 [==============================] - 7s 4ms/step - loss: 0.0648 - mean_squared_error: 0.0174 - accuracy: 0.8853 - val_loss: 0.0400 - val_mean_squared_error: 0.0105 - val_accuracy: 0.9312\n",
      "Epoch 7/50\n",
      "1563/1563 [==============================] - 7s 5ms/step - loss: 0.0614 - mean_squared_error: 0.0164 - accuracy: 0.8914 - val_loss: 0.0378 - val_mean_squared_error: 0.0099 - val_accuracy: 0.9363\n",
      "Epoch 8/50\n",
      "1563/1563 [==============================] - 7s 4ms/step - loss: 0.0586 - mean_squared_error: 0.0157 - accuracy: 0.8946 - val_loss: 0.0356 - val_mean_squared_error: 0.0094 - val_accuracy: 0.9388\n",
      "Epoch 9/50\n",
      "1563/1563 [==============================] - 7s 4ms/step - loss: 0.0560 - mean_squared_error: 0.0150 - accuracy: 0.9006 - val_loss: 0.0341 - val_mean_squared_error: 0.0090 - val_accuracy: 0.9421\n",
      "Epoch 10/50\n",
      "1563/1563 [==============================] - 8s 5ms/step - loss: 0.0534 - mean_squared_error: 0.0143 - accuracy: 0.9055 - val_loss: 0.0326 - val_mean_squared_error: 0.0086 - val_accuracy: 0.9444\n",
      "Epoch 11/50\n",
      "1563/1563 [==============================] - 8s 5ms/step - loss: 0.0520 - mean_squared_error: 0.0139 - accuracy: 0.9080 - val_loss: 0.0314 - val_mean_squared_error: 0.0083 - val_accuracy: 0.9468\n",
      "Epoch 12/50\n",
      "1563/1563 [==============================] - 9s 6ms/step - loss: 0.0504 - mean_squared_error: 0.0134 - accuracy: 0.9107 - val_loss: 0.0301 - val_mean_squared_error: 0.0080 - val_accuracy: 0.9483\n",
      "Epoch 13/50\n",
      "1563/1563 [==============================] - 8s 5ms/step - loss: 0.0487 - mean_squared_error: 0.0130 - accuracy: 0.9135 - val_loss: 0.0292 - val_mean_squared_error: 0.0077 - val_accuracy: 0.9495\n"
     ]
    }
   ],
   "source": [
    "# Batch normalization добавляем после плотного слоя и перед активацией, дропаут - между слоями\n",
    "model = Sequential()\n",
    "model.add(Dense(512, input_shape=(28 * 28,)))\n",
    "model.add(BatchNormalization())\n",
    "model.add(Activation('relu'))\n",
    "\n",
    "model.add(Dropout(0.5))\n",
    "\n",
    "model.add(Dense(256))\n",
    "model.add(BatchNormalization())\n",
    "model.add(Activation('relu'))\n",
    "\n",
    "model.add(Dense(10, activation='softmax'))\n",
    "\n",
    "model.compile(optimizer='sgd',\n",
    "                loss='binary_crossentropy',\n",
    "                metrics = ['mean_squared_error', 'accuracy'])\n",
    "\n",
    "log_dir = \"logs/fit/\" + datetime.datetime.now().strftime(\"%Y%m%d-%H%M%S\")\n",
    "tensorboard_callback = tf.keras.callbacks.TensorBoard(log_dir=log_dir, histogram_freq=1)\n",
    "early_stopping_callback = keras.callbacks.EarlyStopping(monitor='val_loss', min_delta=0.001)\n",
    "\n",
    "history_batch_norm = model.fit(X_train, y_train, epochs=50, validation_data=(X_test, y_test), \n",
    "                    callbacks=[tensorboard_callback, early_stopping_callback])"
   ]
  },
  {
   "cell_type": "code",
   "execution_count": 37,
   "metadata": {},
   "outputs": [
    {
     "name": "stdout",
     "output_type": "stream",
     "text": [
      "313/313 [==============================] - 0s 2ms/step - loss: 0.0292 - mean_squared_error: 0.0077 - accuracy: 0.9495\n",
      "Test loss: 0.02916409634053707, test mse: 0.007718810811638832, test accuracy: 0.9495000243186951\n"
     ]
    }
   ],
   "source": [
    "test_loss, test_mse, test_acc = model.evaluate(X_test, y_test)\n",
    "print(f'Test loss: {test_loss}, test mse: {test_mse}, test accuracy: {test_acc}')\n",
    "task2_statistics.loc[k] = ['batch_norm', test_loss, test_mse, test_acc]\n",
    "k+=1"
   ]
  },
  {
   "cell_type": "code",
   "execution_count": 38,
   "metadata": {},
   "outputs": [
    {
     "data": {
      "text/html": [
       "<style  type=\"text/css\" >\n",
       "#T_dd53e44e_3d17_11eb_8d8a_3b0ecf7ed177row0_col1,#T_dd53e44e_3d17_11eb_8d8a_3b0ecf7ed177row0_col2,#T_dd53e44e_3d17_11eb_8d8a_3b0ecf7ed177row2_col3{\n",
       "            background-color:  #008000;\n",
       "            color:  #f1f1f1;\n",
       "        }#T_dd53e44e_3d17_11eb_8d8a_3b0ecf7ed177row0_col3,#T_dd53e44e_3d17_11eb_8d8a_3b0ecf7ed177row2_col1,#T_dd53e44e_3d17_11eb_8d8a_3b0ecf7ed177row2_col2{\n",
       "            background-color:  #ebf3eb;\n",
       "            color:  #000000;\n",
       "        }#T_dd53e44e_3d17_11eb_8d8a_3b0ecf7ed177row1_col1{\n",
       "            background-color:  #88c388;\n",
       "            color:  #000000;\n",
       "        }#T_dd53e44e_3d17_11eb_8d8a_3b0ecf7ed177row1_col2{\n",
       "            background-color:  #86c286;\n",
       "            color:  #000000;\n",
       "        }#T_dd53e44e_3d17_11eb_8d8a_3b0ecf7ed177row1_col3{\n",
       "            background-color:  #67b267;\n",
       "            color:  #000000;\n",
       "        }#T_dd53e44e_3d17_11eb_8d8a_3b0ecf7ed177row3_col1{\n",
       "            background-color:  #6db66d;\n",
       "            color:  #000000;\n",
       "        }#T_dd53e44e_3d17_11eb_8d8a_3b0ecf7ed177row3_col2{\n",
       "            background-color:  #62b062;\n",
       "            color:  #000000;\n",
       "        }#T_dd53e44e_3d17_11eb_8d8a_3b0ecf7ed177row3_col3{\n",
       "            background-color:  #8bc48b;\n",
       "            color:  #000000;\n",
       "        }</style><table id=\"T_dd53e44e_3d17_11eb_8d8a_3b0ecf7ed177\" ><thead>    <tr>        <th class=\"blank level0\" ></th>        <th class=\"col_heading level0 col0\" >name</th>        <th class=\"col_heading level0 col1\" >test_loss</th>        <th class=\"col_heading level0 col2\" >test_mse</th>        <th class=\"col_heading level0 col3\" >test_accuracy</th>    </tr></thead><tbody>\n",
       "                <tr>\n",
       "                        <th id=\"T_dd53e44e_3d17_11eb_8d8a_3b0ecf7ed177level0_row0\" class=\"row_heading level0 row0\" >0</th>\n",
       "                        <td id=\"T_dd53e44e_3d17_11eb_8d8a_3b0ecf7ed177row0_col0\" class=\"data row0 col0\" >early_stopping_callback</td>\n",
       "                        <td id=\"T_dd53e44e_3d17_11eb_8d8a_3b0ecf7ed177row0_col1\" class=\"data row0 col1\" >0.040194</td>\n",
       "                        <td id=\"T_dd53e44e_3d17_11eb_8d8a_3b0ecf7ed177row0_col2\" class=\"data row0 col2\" >0.010298</td>\n",
       "                        <td id=\"T_dd53e44e_3d17_11eb_8d8a_3b0ecf7ed177row0_col3\" class=\"data row0 col3\" >0.933100</td>\n",
       "            </tr>\n",
       "            <tr>\n",
       "                        <th id=\"T_dd53e44e_3d17_11eb_8d8a_3b0ecf7ed177level0_row1\" class=\"row_heading level0 row1\" >1</th>\n",
       "                        <td id=\"T_dd53e44e_3d17_11eb_8d8a_3b0ecf7ed177row1_col0\" class=\"data row1 col0\" >adagrad</td>\n",
       "                        <td id=\"T_dd53e44e_3d17_11eb_8d8a_3b0ecf7ed177row1_col1\" class=\"data row1 col1\" >0.026516</td>\n",
       "                        <td id=\"T_dd53e44e_3d17_11eb_8d8a_3b0ecf7ed177row1_col2\" class=\"data row1 col2\" >0.006770</td>\n",
       "                        <td id=\"T_dd53e44e_3d17_11eb_8d8a_3b0ecf7ed177row1_col3\" class=\"data row1 col3\" >0.955500</td>\n",
       "            </tr>\n",
       "            <tr>\n",
       "                        <th id=\"T_dd53e44e_3d17_11eb_8d8a_3b0ecf7ed177level0_row2\" class=\"row_heading level0 row2\" >2</th>\n",
       "                        <td id=\"T_dd53e44e_3d17_11eb_8d8a_3b0ecf7ed177row2_col0\" class=\"data row2 col0\" >adam</td>\n",
       "                        <td id=\"T_dd53e44e_3d17_11eb_8d8a_3b0ecf7ed177row2_col1\" class=\"data row2 col1\" >0.016559</td>\n",
       "                        <td id=\"T_dd53e44e_3d17_11eb_8d8a_3b0ecf7ed177row2_col2\" class=\"data row2 col2\" >0.004142</td>\n",
       "                        <td id=\"T_dd53e44e_3d17_11eb_8d8a_3b0ecf7ed177row2_col3\" class=\"data row2 col3\" >0.973200</td>\n",
       "            </tr>\n",
       "            <tr>\n",
       "                        <th id=\"T_dd53e44e_3d17_11eb_8d8a_3b0ecf7ed177level0_row3\" class=\"row_heading level0 row3\" >3</th>\n",
       "                        <td id=\"T_dd53e44e_3d17_11eb_8d8a_3b0ecf7ed177row3_col0\" class=\"data row3 col0\" >batch_norm</td>\n",
       "                        <td id=\"T_dd53e44e_3d17_11eb_8d8a_3b0ecf7ed177row3_col1\" class=\"data row3 col1\" >0.029164</td>\n",
       "                        <td id=\"T_dd53e44e_3d17_11eb_8d8a_3b0ecf7ed177row3_col2\" class=\"data row3 col2\" >0.007719</td>\n",
       "                        <td id=\"T_dd53e44e_3d17_11eb_8d8a_3b0ecf7ed177row3_col3\" class=\"data row3 col3\" >0.949500</td>\n",
       "            </tr>\n",
       "    </tbody></table>"
      ],
      "text/plain": [
       "<pandas.io.formats.style.Styler at 0x7f765c6c18e0>"
      ]
     },
     "execution_count": 38,
     "metadata": {},
     "output_type": "execute_result"
    }
   ],
   "source": [
    "cm = sns.light_palette(\"green\", as_cmap=True)\n",
    "task2_statistics.style.background_gradient(cmap=cm)"
   ]
  },
  {
   "cell_type": "code",
   "execution_count": 43,
   "metadata": {},
   "outputs": [],
   "source": [
    "# Вывод - пока лучше всего сработала версия с Адамом"
   ]
  },
  {
   "cell_type": "markdown",
   "metadata": {},
   "source": [
    "## keras tuner"
   ]
  },
  {
   "cell_type": "code",
   "execution_count": 59,
   "metadata": {
    "scrolled": true
   },
   "outputs": [
    {
     "name": "stdout",
     "output_type": "stream",
     "text": [
      "Requirement already satisfied: keras-tuner in /home/eko/anaconda3/lib/python3.8/site-packages (1.0.2)\n",
      "Requirement already satisfied: future in /home/eko/anaconda3/lib/python3.8/site-packages (from keras-tuner) (0.18.2)\n",
      "Requirement already satisfied: numpy in /home/eko/anaconda3/lib/python3.8/site-packages (from keras-tuner) (1.19.2)\n",
      "Requirement already satisfied: packaging in /home/eko/anaconda3/lib/python3.8/site-packages (from keras-tuner) (20.7)\n",
      "Requirement already satisfied: tabulate in /home/eko/anaconda3/lib/python3.8/site-packages (from keras-tuner) (0.8.7)\n",
      "Requirement already satisfied: scikit-learn in /home/eko/anaconda3/lib/python3.8/site-packages (from keras-tuner) (0.23.2)\n",
      "Requirement already satisfied: requests in /home/eko/anaconda3/lib/python3.8/site-packages (from keras-tuner) (2.25.0)\n",
      "Requirement already satisfied: scipy in /home/eko/anaconda3/lib/python3.8/site-packages (from keras-tuner) (1.4.1)\n",
      "Requirement already satisfied: tqdm in /home/eko/anaconda3/lib/python3.8/site-packages (from keras-tuner) (4.54.0)\n",
      "Requirement already satisfied: colorama in /home/eko/anaconda3/lib/python3.8/site-packages (from keras-tuner) (0.4.4)\n",
      "Requirement already satisfied: terminaltables in /home/eko/anaconda3/lib/python3.8/site-packages (from keras-tuner) (3.1.0)\n",
      "Requirement already satisfied: pyparsing>=2.0.2 in /home/eko/anaconda3/lib/python3.8/site-packages (from packaging->keras-tuner) (2.4.7)\n",
      "Requirement already satisfied: threadpoolctl>=2.0.0 in /home/eko/anaconda3/lib/python3.8/site-packages (from scikit-learn->keras-tuner) (2.1.0)\n",
      "Requirement already satisfied: joblib>=0.11 in /home/eko/anaconda3/lib/python3.8/site-packages (from scikit-learn->keras-tuner) (0.17.0)\n",
      "Requirement already satisfied: urllib3<1.27,>=1.21.1 in /home/eko/anaconda3/lib/python3.8/site-packages (from requests->keras-tuner) (1.25.11)\n",
      "Requirement already satisfied: idna<3,>=2.5 in /home/eko/anaconda3/lib/python3.8/site-packages (from requests->keras-tuner) (2.10)\n",
      "Requirement already satisfied: certifi>=2017.4.17 in /home/eko/anaconda3/lib/python3.8/site-packages (from requests->keras-tuner) (2020.12.5)\n",
      "Requirement already satisfied: chardet<4,>=3.0.2 in /home/eko/anaconda3/lib/python3.8/site-packages (from requests->keras-tuner) (3.0.4)\n"
     ]
    }
   ],
   "source": [
    "!pip install keras-tuner"
   ]
  },
  {
   "cell_type": "code",
   "execution_count": 7,
   "metadata": {},
   "outputs": [],
   "source": [
    "from kerastuner.tuners import RandomSearch\n",
    "from keras.optimizers import Adam\n",
    "\n",
    "# Ищем оптимальное количество нейронов на последних двух слоях и оптимальный learning rate Адама\n",
    "def build(hp):\n",
    "    model = Sequential()\n",
    "    model.add(Dense(512, input_shape=(28 * 28,)))\n",
    "    model.add(BatchNormalization())\n",
    "    model.add(Activation('relu'))\n",
    "\n",
    "    model.add(Dropout(0.5))\n",
    "\n",
    "    model.add(Dense(hp.Int('units', min_value=32, max_value=256, step=32)),)\n",
    "    model.add(BatchNormalization())\n",
    "    model.add(Activation('relu'))\n",
    "\n",
    "    model.add(Dense(10, activation='softmax'))\n",
    "\n",
    "    model.compile(optimizer=Adam(hp.Choice('learning_rate', values=[1e-2, 1e-3, 1e-4])), \n",
    "                    loss='binary_crossentropy',\n",
    "                    metrics = ['mean_squared_error', 'accuracy'])\n",
    "    return model"
   ]
  },
  {
   "cell_type": "code",
   "execution_count": 8,
   "metadata": {},
   "outputs": [
    {
     "name": "stdout",
     "output_type": "stream",
     "text": [
      "INFO:tensorflow:Reloading Oracle from existing project ./untitled_project/oracle.json\n"
     ]
    }
   ],
   "source": [
    "tuner = RandomSearch(\n",
    "    build,\n",
    "    objective='val_accuracy',\n",
    "    max_trials=5,\n",
    "    executions_per_trial=3)"
   ]
  },
  {
   "cell_type": "code",
   "execution_count": 9,
   "metadata": {
    "scrolled": true
   },
   "outputs": [
    {
     "name": "stdout",
     "output_type": "stream",
     "text": [
      "Trial 5 Complete [00h 01m 50s]\n",
      "val_accuracy: 0.9794666568438212\n",
      "\n",
      "Best val_accuracy So Far: 0.9794666568438212\n",
      "Total elapsed time: 00h 09m 25s\n",
      "INFO:tensorflow:Oracle triggered exit\n"
     ]
    }
   ],
   "source": [
    "tuner.search(X_train, y_train,\n",
    "             epochs=5,\n",
    "             validation_data=(X_test, y_test))"
   ]
  },
  {
   "cell_type": "code",
   "execution_count": 10,
   "metadata": {},
   "outputs": [
    {
     "name": "stdout",
     "output_type": "stream",
     "text": [
      "Results summary\n",
      "Results in ./untitled_project\n",
      "Showing 10 best trials\n",
      "Objective(name='val_accuracy', direction='max')\n",
      "Trial summary\n",
      "Hyperparameters:\n",
      "units: 160\n",
      "learning_rate: 0.001\n",
      "Score: 0.9794666568438212\n",
      "Trial summary\n",
      "Hyperparameters:\n",
      "units: 256\n",
      "learning_rate: 0.01\n",
      "Score: 0.9752999941507975\n",
      "Trial summary\n",
      "Hyperparameters:\n",
      "units: 224\n",
      "learning_rate: 0.0001\n",
      "Score: 0.9717333316802979\n",
      "Trial summary\n",
      "Hyperparameters:\n",
      "units: 256\n",
      "learning_rate: 0.0001\n",
      "Score: 0.9714666803677877\n",
      "Trial summary\n",
      "Hyperparameters:\n",
      "units: 32\n",
      "learning_rate: 0.0001\n",
      "Score: 0.9661999940872192\n"
     ]
    }
   ],
   "source": [
    "tuner.results_summary()"
   ]
  }
 ],
 "metadata": {
  "kernelspec": {
   "display_name": "Python 3",
   "language": "python",
   "name": "python3"
  },
  "language_info": {
   "codemirror_mode": {
    "name": "ipython",
    "version": 3
   },
   "file_extension": ".py",
   "mimetype": "text/x-python",
   "name": "python",
   "nbconvert_exporter": "python",
   "pygments_lexer": "ipython3",
   "version": "3.8.5"
  },
  "toc": {
   "base_numbering": 1,
   "nav_menu": {},
   "number_sections": true,
   "sideBar": true,
   "skip_h1_title": false,
   "title_cell": "Table of Contents",
   "title_sidebar": "Contents",
   "toc_cell": false,
   "toc_position": {},
   "toc_section_display": true,
   "toc_window_display": false
  },
  "varInspector": {
   "cols": {
    "lenName": 16,
    "lenType": 16,
    "lenVar": 40
   },
   "kernels_config": {
    "python": {
     "delete_cmd_postfix": "",
     "delete_cmd_prefix": "del ",
     "library": "var_list.py",
     "varRefreshCmd": "print(var_dic_list())"
    },
    "r": {
     "delete_cmd_postfix": ") ",
     "delete_cmd_prefix": "rm(",
     "library": "var_list.r",
     "varRefreshCmd": "cat(var_dic_list()) "
    }
   },
   "types_to_exclude": [
    "module",
    "function",
    "builtin_function_or_method",
    "instance",
    "_Feature"
   ],
   "window_display": false
  }
 },
 "nbformat": 4,
 "nbformat_minor": 2
}
