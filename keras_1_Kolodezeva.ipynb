{
 "cells": [
  {
   "cell_type": "code",
   "execution_count": 1,
   "metadata": {
    "scrolled": true
   },
   "outputs": [
    {
     "name": "stdout",
     "output_type": "stream",
     "text": [
      "Requirement already satisfied: keras in /home/eko/anaconda3/lib/python3.8/site-packages (2.4.3)\r\n",
      "Requirement already satisfied: h5py in /home/eko/anaconda3/lib/python3.8/site-packages (from keras) (2.10.0)\r\n",
      "Requirement already satisfied: pyyaml in /home/eko/anaconda3/lib/python3.8/site-packages (from keras) (5.3.1)\r\n",
      "Requirement already satisfied: scipy>=0.14 in /home/eko/anaconda3/lib/python3.8/site-packages (from keras) (1.4.1)\r\n",
      "Requirement already satisfied: numpy>=1.9.1 in /home/eko/anaconda3/lib/python3.8/site-packages (from keras) (1.19.2)\r\n",
      "Requirement already satisfied: six in /home/eko/anaconda3/lib/python3.8/site-packages (from h5py->keras) (1.15.0)\r\n"
     ]
    }
   ],
   "source": [
    "! pip install keras"
   ]
  },
  {
   "cell_type": "code",
   "execution_count": 2,
   "metadata": {
    "scrolled": true
   },
   "outputs": [
    {
     "name": "stdout",
     "output_type": "stream",
     "text": [
      "Requirement already satisfied: tensorflow==2.2 in /home/eko/anaconda3/lib/python3.8/site-packages (2.2.0)\n",
      "Requirement already satisfied: numpy<2.0,>=1.16.0 in /home/eko/anaconda3/lib/python3.8/site-packages (from tensorflow==2.2) (1.19.2)\n",
      "Requirement already satisfied: scipy==1.4.1; python_version >= \"3\" in /home/eko/anaconda3/lib/python3.8/site-packages (from tensorflow==2.2) (1.4.1)\n",
      "Requirement already satisfied: opt-einsum>=2.3.2 in /home/eko/anaconda3/lib/python3.8/site-packages (from tensorflow==2.2) (3.3.0)\n",
      "Requirement already satisfied: protobuf>=3.8.0 in /home/eko/anaconda3/lib/python3.8/site-packages (from tensorflow==2.2) (3.14.0)\n",
      "Requirement already satisfied: six>=1.12.0 in /home/eko/anaconda3/lib/python3.8/site-packages (from tensorflow==2.2) (1.15.0)\n",
      "Requirement already satisfied: grpcio>=1.8.6 in /home/eko/anaconda3/lib/python3.8/site-packages (from tensorflow==2.2) (1.34.0)\n",
      "Requirement already satisfied: absl-py>=0.7.0 in /home/eko/anaconda3/lib/python3.8/site-packages (from tensorflow==2.2) (0.11.0)\n",
      "Requirement already satisfied: gast==0.3.3 in /home/eko/anaconda3/lib/python3.8/site-packages (from tensorflow==2.2) (0.3.3)\n",
      "Requirement already satisfied: termcolor>=1.1.0 in /home/eko/anaconda3/lib/python3.8/site-packages (from tensorflow==2.2) (1.1.0)\n",
      "Requirement already satisfied: tensorflow-estimator<2.3.0,>=2.2.0 in /home/eko/anaconda3/lib/python3.8/site-packages (from tensorflow==2.2) (2.2.0)\n",
      "Requirement already satisfied: h5py<2.11.0,>=2.10.0 in /home/eko/anaconda3/lib/python3.8/site-packages (from tensorflow==2.2) (2.10.0)\n",
      "Requirement already satisfied: wrapt>=1.11.1 in /home/eko/anaconda3/lib/python3.8/site-packages (from tensorflow==2.2) (1.11.2)\n",
      "Requirement already satisfied: tensorboard<2.3.0,>=2.2.0 in /home/eko/anaconda3/lib/python3.8/site-packages (from tensorflow==2.2) (2.2.2)\n",
      "Requirement already satisfied: astunparse==1.6.3 in /home/eko/anaconda3/lib/python3.8/site-packages (from tensorflow==2.2) (1.6.3)\n",
      "Requirement already satisfied: keras-preprocessing>=1.1.0 in /home/eko/anaconda3/lib/python3.8/site-packages (from tensorflow==2.2) (1.1.2)\n",
      "Requirement already satisfied: google-pasta>=0.1.8 in /home/eko/anaconda3/lib/python3.8/site-packages (from tensorflow==2.2) (0.2.0)\n",
      "Requirement already satisfied: wheel>=0.26; python_version >= \"3\" in /home/eko/anaconda3/lib/python3.8/site-packages (from tensorflow==2.2) (0.36.0)\n",
      "Requirement already satisfied: setuptools>=41.0.0 in /home/eko/anaconda3/lib/python3.8/site-packages (from tensorboard<2.3.0,>=2.2.0->tensorflow==2.2) (50.3.0.post20201006)\n",
      "Requirement already satisfied: tensorboard-plugin-wit>=1.6.0 in /home/eko/anaconda3/lib/python3.8/site-packages (from tensorboard<2.3.0,>=2.2.0->tensorflow==2.2) (1.7.0)\n",
      "Requirement already satisfied: werkzeug>=0.11.15 in /home/eko/anaconda3/lib/python3.8/site-packages (from tensorboard<2.3.0,>=2.2.0->tensorflow==2.2) (1.0.1)\n",
      "Requirement already satisfied: google-auth<2,>=1.6.3 in /home/eko/anaconda3/lib/python3.8/site-packages (from tensorboard<2.3.0,>=2.2.0->tensorflow==2.2) (1.23.0)\n",
      "Requirement already satisfied: markdown>=2.6.8 in /home/eko/anaconda3/lib/python3.8/site-packages (from tensorboard<2.3.0,>=2.2.0->tensorflow==2.2) (3.3.3)\n",
      "Requirement already satisfied: requests<3,>=2.21.0 in /home/eko/anaconda3/lib/python3.8/site-packages (from tensorboard<2.3.0,>=2.2.0->tensorflow==2.2) (2.25.0)\n",
      "Requirement already satisfied: google-auth-oauthlib<0.5,>=0.4.1 in /home/eko/anaconda3/lib/python3.8/site-packages (from tensorboard<2.3.0,>=2.2.0->tensorflow==2.2) (0.4.2)\n",
      "Requirement already satisfied: rsa<5,>=3.1.4; python_version >= \"3.5\" in /home/eko/anaconda3/lib/python3.8/site-packages (from google-auth<2,>=1.6.3->tensorboard<2.3.0,>=2.2.0->tensorflow==2.2) (4.6)\n",
      "Requirement already satisfied: cachetools<5.0,>=2.0.0 in /home/eko/anaconda3/lib/python3.8/site-packages (from google-auth<2,>=1.6.3->tensorboard<2.3.0,>=2.2.0->tensorflow==2.2) (4.2.0)\n",
      "Requirement already satisfied: pyasn1-modules>=0.2.1 in /home/eko/anaconda3/lib/python3.8/site-packages (from google-auth<2,>=1.6.3->tensorboard<2.3.0,>=2.2.0->tensorflow==2.2) (0.2.8)\n",
      "Requirement already satisfied: chardet<4,>=3.0.2 in /home/eko/anaconda3/lib/python3.8/site-packages (from requests<3,>=2.21.0->tensorboard<2.3.0,>=2.2.0->tensorflow==2.2) (3.0.4)\n",
      "Requirement already satisfied: idna<3,>=2.5 in /home/eko/anaconda3/lib/python3.8/site-packages (from requests<3,>=2.21.0->tensorboard<2.3.0,>=2.2.0->tensorflow==2.2) (2.10)\n",
      "Requirement already satisfied: urllib3<1.27,>=1.21.1 in /home/eko/anaconda3/lib/python3.8/site-packages (from requests<3,>=2.21.0->tensorboard<2.3.0,>=2.2.0->tensorflow==2.2) (1.25.11)\n",
      "Requirement already satisfied: certifi>=2017.4.17 in /home/eko/anaconda3/lib/python3.8/site-packages (from requests<3,>=2.21.0->tensorboard<2.3.0,>=2.2.0->tensorflow==2.2) (2020.6.20)\n",
      "Requirement already satisfied: requests-oauthlib>=0.7.0 in /home/eko/anaconda3/lib/python3.8/site-packages (from google-auth-oauthlib<0.5,>=0.4.1->tensorboard<2.3.0,>=2.2.0->tensorflow==2.2) (1.3.0)\n",
      "Requirement already satisfied: pyasn1>=0.1.3 in /home/eko/anaconda3/lib/python3.8/site-packages (from rsa<5,>=3.1.4; python_version >= \"3.5\"->google-auth<2,>=1.6.3->tensorboard<2.3.0,>=2.2.0->tensorflow==2.2) (0.4.8)\n",
      "Requirement already satisfied: oauthlib>=3.0.0 in /home/eko/anaconda3/lib/python3.8/site-packages (from requests-oauthlib>=0.7.0->google-auth-oauthlib<0.5,>=0.4.1->tensorboard<2.3.0,>=2.2.0->tensorflow==2.2) (3.1.0)\n"
     ]
    }
   ],
   "source": [
    "! pip install tensorflow==2.2"
   ]
  },
  {
   "cell_type": "code",
   "execution_count": 3,
   "metadata": {
    "scrolled": true
   },
   "outputs": [
    {
     "name": "stdout",
     "output_type": "stream",
     "text": [
      "(50000, 28, 28) (50000,)\n"
     ]
    },
    {
     "data": {
      "image/png": "[encoded data removed]",
      "text/plain": [
       "<Figure size 432x288 with 1 Axes>"
      ]
     },
     "metadata": {
      "needs_background": "light"
     },
     "output_type": "display_data"
    }
   ],
   "source": [
    "import keras\n",
    "from keras.optimizers import SGD\n",
    "from keras.models import Sequential\n",
    "from keras.layers import Dense\n",
    "from sklearn.preprocessing import LabelBinarizer\n",
    "import matplotlib.pyplot as plt\n",
    "\n",
    "%matplotlib inline\n",
    "\n",
    "def load_dataset(flatten=False):\n",
    "    (X_train, y_train), (X_test, y_test) = keras.datasets.mnist.load_data()\n",
    "    # normalize x\n",
    "    X_train = X_train.astype(float) / 255.\n",
    "    X_test = X_test.astype(float) / 255.\n",
    "    \n",
    "    # Оставим 10000 примеров на валидацию\n",
    "    X_train, X_val = X_train[:-10000], X_train[-10000:]\n",
    "    y_train, y_val = y_train[:-10000], y_train[-10000:]\n",
    "    if flatten:\n",
    "        X_train = X_train.reshape([X_train.shape[0], -1])\n",
    "        X_val = X_val.reshape([X_val.shape[0], -1])\n",
    "        X_test = X_test.reshape([X_test.shape[0], -1])\n",
    "    return X_train, y_train, X_val, y_val, X_test, y_test\n",
    "\n",
    "\n",
    "X_train, y_train, X_val, y_val, X_test, y_test = load_dataset()\n",
    "## Размеры\n",
    "print(X_train.shape, y_train.shape)\n",
    "## Нарисуем пример\n",
    "plt.imshow(X_train[0], cmap=\"Greys\");"
   ]
  },
  {
   "cell_type": "code",
   "execution_count": 4,
   "metadata": {},
   "outputs": [
    {
     "name": "stdout",
     "output_type": "stream",
     "text": [
      "Train dimension:\n",
      "(50000, 784)\n",
      "Test dimension:\n",
      "(10000, 784)\n",
      "Train labels dimension:\n",
      "(50000, 10)\n",
      "Test labels dimension:\n",
      "(10000, 10)\n"
     ]
    }
   ],
   "source": [
    "## Сделаем объекты плоскими N*28*28 to  N*784\n",
    "\n",
    "X_train = X_train.reshape((X_train.shape[0],X_train.shape[1]*X_train.shape[2]))\n",
    "X_test = X_test.reshape((X_test.shape[0],X_test.shape[1]*X_test.shape[2]))\n",
    "\n",
    "print('Train dimension:');print(X_train.shape)\n",
    "print('Test dimension:');print(X_test.shape)\n",
    "\n",
    "## Лейблы нужно сделать One-Hot\n",
    "lb = LabelBinarizer()\n",
    "y_train = lb.fit_transform(y_train)\n",
    "y_test = lb.transform(y_test)\n",
    "print('Train labels dimension:');print(y_train.shape)\n",
    "print('Test labels dimension:');print(y_test.shape)"
   ]
  },
  {
   "cell_type": "code",
   "execution_count": 5,
   "metadata": {},
   "outputs": [
    {
     "name": "stdout",
     "output_type": "stream",
     "text": [
      "Epoch 1/5\n",
      "5000/5000 [==============================] - 4s 896us/step - loss: 0.0888 - mean_squared_error: 0.0888 - val_loss: 0.0863 - val_mean_squared_error: 0.0863\n",
      "Epoch 2/5\n",
      "5000/5000 [==============================] - 4s 845us/step - loss: 0.0827 - mean_squared_error: 0.0827 - val_loss: 0.0792 - val_mean_squared_error: 0.0792\n",
      "Epoch 3/5\n",
      "5000/5000 [==============================] - 5s 927us/step - loss: 0.0752 - mean_squared_error: 0.0752 - val_loss: 0.0703 - val_mean_squared_error: 0.0703\n",
      "Epoch 4/5\n",
      "5000/5000 [==============================] - 4s 824us/step - loss: 0.0641 - mean_squared_error: 0.0641 - val_loss: 0.0572 - val_mean_squared_error: 0.0572\n",
      "Epoch 5/5\n",
      "5000/5000 [==============================] - 4s 828us/step - loss: 0.0532 - mean_squared_error: 0.0532 - val_loss: 0.0489 - val_mean_squared_error: 0.0489\n",
      "313/313 [==============================] - 0s 726us/step - loss: 0.0489 - mean_squared_error: 0.0489\n",
      "Test loss: 0.0489218644797802, test mse: 0.0489218644797802\n"
     ]
    }
   ],
   "source": [
    "from keras.models import Sequential\n",
    "from keras.layers import Dense\n",
    "\n",
    "model = Sequential()\n",
    "model.add(Dense(14, input_dim=X_train.shape[1], activation='relu'))\n",
    "model.add(Dense(12, activation='relu'))\n",
    "model.add(Dense(y_train.shape[1], activation='softmax'))\n",
    "\n",
    "model.compile(loss='mean_squared_error', optimizer='SGD', \n",
    "              metrics=['mean_squared_error'])\n",
    "\n",
    "model.fit(X_train, y_train, epochs=5, batch_size=10, \n",
    "          validation_data=(X_test, y_test))\n",
    "\n",
    "test_loss, test_mse = model.evaluate(X_test, y_test)\n",
    "print(f'Test loss: {test_loss}, test mse: {test_mse}')"
   ]
  },
  {
   "cell_type": "markdown",
   "metadata": {},
   "source": [
    "# Задание\n",
    "1. Выбрать верный loss\n",
    "2. Добавить accuracy как оценку качества\n",
    "3. Исследовать изменение качества при\n",
    "        3.1. Изменении числа слоев\n",
    "        3.2. Изменении числа нейронов\n",
    "        3.3. Изменение функции активации\n",
    "3. Исследовать параметры SGD, сделать выводы\n",
    "\n",
    "```\n",
    "tf.keras.optimizers.SGD(\n",
    "    learning_rate=0.01, momentum=0.0, nesterov=False, name=\"SGD\", **kwargs\n",
    ")\n",
    "```"
   ]
  },
  {
   "cell_type": "markdown",
   "metadata": {},
   "source": [
    "# Выбираем функцию потерь: бинарная кросс-валидация"
   ]
  },
  {
   "cell_type": "code",
   "execution_count": 6,
   "metadata": {},
   "outputs": [
    {
     "name": "stdout",
     "output_type": "stream",
     "text": [
      "Epoch 1/5\n",
      "391/391 [==============================] - 1s 3ms/step - loss: 0.3000 - mean_squared_error: 0.0847\n",
      "Epoch 2/5\n",
      "391/391 [==============================] - 1s 3ms/step - loss: 0.2509 - mean_squared_error: 0.0719\n",
      "Epoch 3/5\n",
      "391/391 [==============================] - 1s 3ms/step - loss: 0.2090 - mean_squared_error: 0.0589\n",
      "Epoch 4/5\n",
      "391/391 [==============================] - 1s 3ms/step - loss: 0.1762 - mean_squared_error: 0.0485\n",
      "Epoch 5/5\n",
      "391/391 [==============================] - 1s 3ms/step - loss: 0.1520 - mean_squared_error: 0.0411\n"
     ]
    },
    {
     "data": {
      "text/plain": [
       "<tensorflow.python.keras.callbacks.History at 0x7f1f406dc220>"
      ]
     },
     "execution_count": 6,
     "metadata": {},
     "output_type": "execute_result"
    }
   ],
   "source": [
    "model = Sequential()\n",
    "model.add(Dense(512, activation='relu', input_shape=(28 * 28,)))\n",
    "model.add(Dense(10, activation='softmax'))\n",
    "\n",
    "model.compile(optimizer='sgd',\n",
    "                loss='binary_crossentropy',\n",
    "                metrics = ['mean_squared_error'])\n",
    "\n",
    "model.fit(X_train, y_train, epochs=5, batch_size=128)"
   ]
  },
  {
   "cell_type": "code",
   "execution_count": 7,
   "metadata": {},
   "outputs": [
    {
     "name": "stdout",
     "output_type": "stream",
     "text": [
      "313/313 [==============================] - 0s 1ms/step - loss: 0.1376 - mean_squared_error: 0.0366\n",
      "Test loss: 0.13756807148456573, test mse: 0.03660647198557854\n"
     ]
    }
   ],
   "source": [
    "test_loss, test_mse = model.evaluate(X_test, y_test)\n",
    "print(f'Test loss: {test_loss}, test mse: {test_mse}')"
   ]
  },
  {
   "cell_type": "markdown",
   "metadata": {},
   "source": [
    "# Добавляем accuracy"
   ]
  },
  {
   "cell_type": "code",
   "execution_count": 8,
   "metadata": {},
   "outputs": [
    {
     "name": "stdout",
     "output_type": "stream",
     "text": [
      "Epoch 1/5\n",
      "5000/5000 [==============================] - 5s 909us/step - loss: 0.0882 - mean_squared_error: 0.0882 - accuracy: 0.1740 - val_loss: 0.0854 - val_mean_squared_error: 0.0854 - val_accuracy: 0.2660\n",
      "Epoch 2/5\n",
      "5000/5000 [==============================] - 4s 871us/step - loss: 0.0806 - mean_squared_error: 0.0806 - accuracy: 0.3796 - val_loss: 0.0733 - val_mean_squared_error: 0.0733 - val_accuracy: 0.4704\n",
      "Epoch 3/5\n",
      "5000/5000 [==============================] - 5s 907us/step - loss: 0.0653 - mean_squared_error: 0.0653 - accuracy: 0.5088 - val_loss: 0.0573 - val_mean_squared_error: 0.0573 - val_accuracy: 0.5714\n",
      "Epoch 4/5\n",
      "5000/5000 [==============================] - 4s 898us/step - loss: 0.0510 - mean_squared_error: 0.0510 - accuracy: 0.6645 - val_loss: 0.0437 - val_mean_squared_error: 0.0437 - val_accuracy: 0.7367\n",
      "Epoch 5/5\n",
      "5000/5000 [==============================] - 5s 924us/step - loss: 0.0404 - mean_squared_error: 0.0404 - accuracy: 0.7481 - val_loss: 0.0367 - val_mean_squared_error: 0.0367 - val_accuracy: 0.7624\n"
     ]
    },
    {
     "data": {
      "text/plain": [
       "<tensorflow.python.keras.callbacks.History at 0x7f1f40608340>"
      ]
     },
     "execution_count": 8,
     "metadata": {},
     "output_type": "execute_result"
    }
   ],
   "source": [
    "model = Sequential()\n",
    "model.add(Dense(14, input_dim=X_train.shape[1], activation='relu'))\n",
    "model.add(Dense(12, activation='relu'))\n",
    "model.add(Dense(y_train.shape[1], activation='softmax'))\n",
    "\n",
    "model.compile(loss='mean_squared_error', optimizer='SGD', \n",
    "              metrics=['mean_squared_error', 'accuracy'])\n",
    "\n",
    "model.fit(X_train, y_train, epochs=5, batch_size=10, \n",
    "          validation_data=(X_test, y_test))"
   ]
  },
  {
   "cell_type": "code",
   "execution_count": 9,
   "metadata": {},
   "outputs": [
    {
     "name": "stdout",
     "output_type": "stream",
     "text": [
      "313/313 [==============================] - 0s 762us/step - loss: 0.0367 - mean_squared_error: 0.0367 - accuracy: 0.7624\n",
      "Test loss: 0.036721620708703995, test mse: 0.036721620708703995, test accuracy: 0.7623999714851379\n"
     ]
    }
   ],
   "source": [
    "test_loss, test_mse, test_acc = model.evaluate(X_test, y_test)\n",
    "print(f'Test loss: {test_loss}, test mse: {test_mse}, test accuracy: {test_acc}')"
   ]
  },
  {
   "cell_type": "markdown",
   "metadata": {},
   "source": [
    "# Меняем количество слоев"
   ]
  },
  {
   "cell_type": "code",
   "execution_count": 10,
   "metadata": {},
   "outputs": [
    {
     "name": "stdout",
     "output_type": "stream",
     "text": [
      "Epoch 1/5\n",
      "391/391 [==============================] - 2s 5ms/step - loss: 0.3103 - mean_squared_error: 0.0868 - accuracy: 0.2846\n",
      "Epoch 2/5\n",
      "391/391 [==============================] - 2s 4ms/step - loss: 0.2686 - mean_squared_error: 0.0766 - accuracy: 0.6246\n",
      "Epoch 3/5\n",
      "391/391 [==============================] - 2s 4ms/step - loss: 0.2256 - mean_squared_error: 0.0641 - accuracy: 0.7183\n",
      "Epoch 4/5\n",
      "391/391 [==============================] - 2s 4ms/step - loss: 0.1841 - mean_squared_error: 0.0511 - accuracy: 0.7648\n",
      "Epoch 5/5\n",
      "391/391 [==============================] - 2s 4ms/step - loss: 0.1514 - mean_squared_error: 0.0411 - accuracy: 0.8007\n"
     ]
    },
    {
     "data": {
      "text/plain": [
       "<tensorflow.python.keras.callbacks.History at 0x7f1f404dfb50>"
      ]
     },
     "execution_count": 10,
     "metadata": {},
     "output_type": "execute_result"
    }
   ],
   "source": [
    "# Добавляем новый слой с 256 нейронами в середину\n",
    "\n",
    "model = Sequential()\n",
    "model.add(Dense(512, activation='relu', input_shape=(28 * 28,)))\n",
    "model.add(Dense(256, activation='relu'))\n",
    "model.add(Dense(10, activation='softmax'))\n",
    "\n",
    "model.compile(optimizer='sgd',\n",
    "                loss='binary_crossentropy',\n",
    "                metrics = ['mean_squared_error', 'accuracy'])\n",
    "\n",
    "model.fit(X_train, y_train, epochs=5, batch_size=128)"
   ]
  },
  {
   "cell_type": "code",
   "execution_count": 11,
   "metadata": {},
   "outputs": [
    {
     "name": "stdout",
     "output_type": "stream",
     "text": [
      "313/313 [==============================] - 0s 1ms/step - loss: 0.1332 - mean_squared_error: 0.0356 - accuracy: 0.8278\n",
      "Test loss: 0.1332128345966339, test mse: 0.03557581454515457, test accuracy: 0.8277999758720398\n"
     ]
    }
   ],
   "source": [
    "test_loss, test_mse, test_acc = model.evaluate(X_test, y_test)\n",
    "print(f'Test loss: {test_loss}, test mse: {test_mse}, test accuracy: {test_acc}')"
   ]
  },
  {
   "cell_type": "markdown",
   "metadata": {},
   "source": [
    "# Меняем количество нейронов"
   ]
  },
  {
   "cell_type": "code",
   "execution_count": 12,
   "metadata": {},
   "outputs": [
    {
     "name": "stdout",
     "output_type": "stream",
     "text": [
      "Epoch 1/5\n",
      "391/391 [==============================] - 1s 3ms/step - loss: 0.3130 - mean_squared_error: 0.0875 - accuracy: 0.2290\n",
      "Epoch 2/5\n",
      "391/391 [==============================] - 1s 3ms/step - loss: 0.2883 - mean_squared_error: 0.0816 - accuracy: 0.3641\n",
      "Epoch 3/5\n",
      "391/391 [==============================] - 1s 3ms/step - loss: 0.2662 - mean_squared_error: 0.0755 - accuracy: 0.4523\n",
      "Epoch 4/5\n",
      "391/391 [==============================] - 1s 3ms/step - loss: 0.2445 - mean_squared_error: 0.0695 - accuracy: 0.5565\n",
      "Epoch 5/5\n",
      "391/391 [==============================] - 1s 3ms/step - loss: 0.2221 - mean_squared_error: 0.0630 - accuracy: 0.6100\n"
     ]
    },
    {
     "data": {
      "text/plain": [
       "<tensorflow.python.keras.callbacks.History at 0x7f1f4037c6d0>"
      ]
     },
     "execution_count": 12,
     "metadata": {},
     "output_type": "execute_result"
    }
   ],
   "source": [
    "# Меняем у нового слоя количество нейронов с 256 до 16\n",
    "\n",
    "model = Sequential()\n",
    "model.add(Dense(512, activation='relu', input_shape=(28 * 28,)))\n",
    "model.add(Dense(16, activation='relu'))\n",
    "model.add(Dense(10, activation='softmax'))\n",
    "\n",
    "model.compile(optimizer='sgd',\n",
    "                loss='binary_crossentropy',\n",
    "                metrics = ['mean_squared_error', 'accuracy'])\n",
    "\n",
    "model.fit(X_train, y_train, epochs=5, batch_size=128)"
   ]
  },
  {
   "cell_type": "code",
   "execution_count": 13,
   "metadata": {},
   "outputs": [
    {
     "name": "stdout",
     "output_type": "stream",
     "text": [
      "313/313 [==============================] - 0s 1ms/step - loss: 0.2084 - mean_squared_error: 0.0591 - accuracy: 0.6404\n",
      "Test loss: 0.2084101140499115, test mse: 0.059128399938344955, test accuracy: 0.6403999924659729\n"
     ]
    }
   ],
   "source": [
    "test_loss, test_mse, test_acc = model.evaluate(X_test, y_test)\n",
    "print(f'Test loss: {test_loss}, test mse: {test_mse}, test accuracy: {test_acc}')"
   ]
  },
  {
   "cell_type": "markdown",
   "metadata": {},
   "source": [
    "# Меняем функцию активации"
   ]
  },
  {
   "cell_type": "code",
   "execution_count": 14,
   "metadata": {},
   "outputs": [
    {
     "name": "stdout",
     "output_type": "stream",
     "text": [
      "Epoch 1/5\n",
      "391/391 [==============================] - 1s 3ms/step - loss: 5.7982 - mean_squared_error: 1925.7000 - accuracy: 0.1375\n",
      "Epoch 2/5\n",
      "391/391 [==============================] - 1s 3ms/step - loss: 7.6882 - mean_squared_error: 2640.7502 - accuracy: 0.0901\n",
      "Epoch 3/5\n",
      "391/391 [==============================] - 1s 3ms/step - loss: 7.6882 - mean_squared_error: 2640.7517 - accuracy: 0.0901\n",
      "Epoch 4/5\n",
      "391/391 [==============================] - 1s 3ms/step - loss: 7.6882 - mean_squared_error: 2640.7498 - accuracy: 0.0901\n",
      "Epoch 5/5\n",
      "391/391 [==============================] - 1s 3ms/step - loss: 7.6882 - mean_squared_error: 2640.7505 - accuracy: 0.0901\n"
     ]
    },
    {
     "data": {
      "text/plain": [
       "<tensorflow.python.keras.callbacks.History at 0x7f1f402a6a00>"
      ]
     },
     "execution_count": 14,
     "metadata": {},
     "output_type": "execute_result"
    }
   ],
   "source": [
    "# Заменяем функцию активации на ReLu\n",
    "\n",
    "model = Sequential()\n",
    "model.add(Dense(512, activation='relu', input_shape=(28 * 28,)))\n",
    "model.add(Dense(16, activation='relu'))\n",
    "model.add(Dense(10, activation='relu'))\n",
    "\n",
    "model.compile(optimizer='sgd',\n",
    "                loss='binary_crossentropy',\n",
    "                metrics = ['mean_squared_error', 'accuracy'])\n",
    "\n",
    "model.fit(X_train, y_train, epochs=5, batch_size=128)"
   ]
  },
  {
   "cell_type": "code",
   "execution_count": 15,
   "metadata": {},
   "outputs": [
    {
     "name": "stdout",
     "output_type": "stream",
     "text": [
      "313/313 [==============================] - 0s 1ms/step - loss: 7.6763 - mean_squared_error: 2659.5413 - accuracy: 0.0892\n",
      "Test loss: 7.676346778869629, test mse: 2659.541259765625, test accuracy: 0.08919999748468399\n"
     ]
    }
   ],
   "source": [
    "test_loss, test_mse, test_acc = model.evaluate(X_test, y_test)\n",
    "print(f'Test loss: {test_loss}, test mse: {test_mse}, test accuracy: {test_acc}')"
   ]
  },
  {
   "cell_type": "markdown",
   "metadata": {},
   "source": [
    "# SGD"
   ]
  },
  {
   "cell_type": "code",
   "execution_count": 16,
   "metadata": {},
   "outputs": [],
   "source": [
    "import pandas as pd"
   ]
  },
  {
   "cell_type": "code",
   "execution_count": 22,
   "metadata": {
    "scrolled": true
   },
   "outputs": [],
   "source": [
    "SGD_statistics = pd.DataFrame(columns=['nesterov', 'learning_rate', 'momentum',\n",
    "                                      'test_loss', 'test_mse', 'test_accuracy'])"
   ]
  },
  {
   "cell_type": "code",
   "execution_count": 23,
   "metadata": {
    "scrolled": true
   },
   "outputs": [
    {
     "name": "stdout",
     "output_type": "stream",
     "text": [
      "Epoch 1/5\n",
      "391/391 [==============================] - 2s 4ms/step - loss: 0.3028 - mean_squared_error: 0.0853 - accuracy: 0.3474\n",
      "Epoch 2/5\n",
      "391/391 [==============================] - 2s 4ms/step - loss: 0.2584 - mean_squared_error: 0.0739 - accuracy: 0.6471\n",
      "Epoch 3/5\n",
      "391/391 [==============================] - 2s 4ms/step - loss: 0.2126 - mean_squared_error: 0.0602 - accuracy: 0.7322\n",
      "Epoch 4/5\n",
      "391/391 [==============================] - 2s 4ms/step - loss: 0.1728 - mean_squared_error: 0.0478 - accuracy: 0.7754\n",
      "Epoch 5/5\n",
      "391/391 [==============================] - 2s 4ms/step - loss: 0.1435 - mean_squared_error: 0.0388 - accuracy: 0.8054\n",
      "313/313 [==============================] - 0s 1ms/step - loss: 0.1276 - mean_squared_error: 0.0340 - accuracy: 0.8322\n",
      "Epoch 1/5\n",
      "391/391 [==============================] - 2s 5ms/step - loss: 0.3035 - mean_squared_error: 0.0855 - accuracy: 0.3214\n",
      "Epoch 2/5\n",
      "391/391 [==============================] - 2s 5ms/step - loss: 0.2567 - mean_squared_error: 0.0732 - accuracy: 0.6386\n",
      "Epoch 3/5\n",
      "391/391 [==============================] - 2s 5ms/step - loss: 0.2074 - mean_squared_error: 0.0583 - accuracy: 0.7198\n",
      "Epoch 4/5\n",
      "391/391 [==============================] - 2s 5ms/step - loss: 0.1651 - mean_squared_error: 0.0453 - accuracy: 0.7734\n",
      "Epoch 5/5\n",
      "391/391 [==============================] - 2s 5ms/step - loss: 0.1350 - mean_squared_error: 0.0363 - accuracy: 0.8163\n",
      "313/313 [==============================] - 0s 1ms/step - loss: 0.1193 - mean_squared_error: 0.0315 - accuracy: 0.8409\n",
      "Epoch 1/5\n",
      "391/391 [==============================] - 2s 5ms/step - loss: 0.2277 - mean_squared_error: 0.0640 - accuracy: 0.6347\n",
      "Epoch 2/5\n",
      "391/391 [==============================] - 2s 5ms/step - loss: 0.1059 - mean_squared_error: 0.0281 - accuracy: 0.8390\n",
      "Epoch 3/5\n",
      "391/391 [==============================] - 2s 5ms/step - loss: 0.0759 - mean_squared_error: 0.0198 - accuracy: 0.8783\n",
      "Epoch 4/5\n",
      "391/391 [==============================] - 2s 5ms/step - loss: 0.0646 - mean_squared_error: 0.0168 - accuracy: 0.8935\n",
      "Epoch 5/5\n",
      "391/391 [==============================] - 2s 5ms/step - loss: 0.0584 - mean_squared_error: 0.0152 - accuracy: 0.9018\n",
      "313/313 [==============================] - 0s 1ms/step - loss: 0.0528 - mean_squared_error: 0.0136 - accuracy: 0.9125\n",
      "Epoch 1/5\n",
      "391/391 [==============================] - 2s 5ms/step - loss: 0.2140 - mean_squared_error: 0.0600 - accuracy: 0.6652\n",
      "Epoch 2/5\n",
      "391/391 [==============================] - 2s 6ms/step - loss: 0.0950 - mean_squared_error: 0.0248 - accuracy: 0.8600\n",
      "Epoch 3/5\n",
      "391/391 [==============================] - 2s 6ms/step - loss: 0.0699 - mean_squared_error: 0.0181 - accuracy: 0.8884\n",
      "Epoch 4/5\n",
      "391/391 [==============================] - 2s 5ms/step - loss: 0.0605 - mean_squared_error: 0.0157 - accuracy: 0.8995\n",
      "Epoch 5/5\n",
      "391/391 [==============================] - 2s 5ms/step - loss: 0.0551 - mean_squared_error: 0.0142 - accuracy: 0.9081\n",
      "313/313 [==============================] - 0s 1ms/step - loss: 0.0499 - mean_squared_error: 0.0128 - accuracy: 0.9173\n",
      "Epoch 1/5\n",
      "391/391 [==============================] - 2s 5ms/step - loss: 0.1638 - mean_squared_error: 0.0451 - accuracy: 0.7518\n",
      "Epoch 2/5\n",
      "391/391 [==============================] - 2s 5ms/step - loss: 0.0690 - mean_squared_error: 0.0180 - accuracy: 0.8873\n",
      "Epoch 3/5\n",
      "391/391 [==============================] - 2s 5ms/step - loss: 0.0559 - mean_squared_error: 0.0145 - accuracy: 0.9071\n",
      "Epoch 4/5\n",
      "391/391 [==============================] - 2s 5ms/step - loss: 0.0497 - mean_squared_error: 0.0129 - accuracy: 0.9158\n",
      "Epoch 5/5\n",
      "391/391 [==============================] - 2s 5ms/step - loss: 0.0456 - mean_squared_error: 0.0118 - accuracy: 0.9230\n",
      "313/313 [==============================] - 1s 2ms/step - loss: 0.0416 - mean_squared_error: 0.0106 - accuracy: 0.9317\n",
      "Epoch 1/5\n",
      "391/391 [==============================] - 2s 5ms/step - loss: 0.1559 - mean_squared_error: 0.0429 - accuracy: 0.7592\n",
      "Epoch 2/5\n",
      "391/391 [==============================] - 2s 5ms/step - loss: 0.0657 - mean_squared_error: 0.0171 - accuracy: 0.8921\n",
      "Epoch 3/5\n",
      "391/391 [==============================] - 2s 5ms/step - loss: 0.0536 - mean_squared_error: 0.0139 - accuracy: 0.9100\n",
      "Epoch 4/5\n",
      "391/391 [==============================] - 3s 7ms/step - loss: 0.0477 - mean_squared_error: 0.0123 - accuracy: 0.9203\n",
      "Epoch 5/5\n",
      "391/391 [==============================] - 2s 6ms/step - loss: 0.0435 - mean_squared_error: 0.0112 - accuracy: 0.9273\n",
      "313/313 [==============================] - 1s 2ms/step - loss: 0.0399 - mean_squared_error: 0.0102 - accuracy: 0.9340\n",
      "Epoch 1/5\n",
      "391/391 [==============================] - 2s 5ms/step - loss: 0.0814 - mean_squared_error: 0.0219 - accuracy: 0.8637\n",
      "Epoch 2/5\n",
      "391/391 [==============================] - 2s 5ms/step - loss: 0.0396 - mean_squared_error: 0.0102 - accuracy: 0.9331\n",
      "Epoch 3/5\n",
      "391/391 [==============================] - 2s 5ms/step - loss: 0.0306 - mean_squared_error: 0.0078 - accuracy: 0.9493\n",
      "Epoch 4/5\n",
      "391/391 [==============================] - 2s 5ms/step - loss: 0.0246 - mean_squared_error: 0.0063 - accuracy: 0.9592\n",
      "Epoch 5/5\n",
      "391/391 [==============================] - 2s 5ms/step - loss: 0.0207 - mean_squared_error: 0.0052 - accuracy: 0.9663\n",
      "313/313 [==============================] - 0s 1ms/step - loss: 0.0224 - mean_squared_error: 0.0058 - accuracy: 0.9611\n",
      "Epoch 1/5\n",
      "391/391 [==============================] - 2s 5ms/step - loss: 0.0777 - mean_squared_error: 0.0209 - accuracy: 0.8700\n",
      "Epoch 2/5\n",
      "391/391 [==============================] - 2s 6ms/step - loss: 0.0384 - mean_squared_error: 0.0099 - accuracy: 0.9346\n",
      "Epoch 3/5\n",
      "391/391 [==============================] - 2s 6ms/step - loss: 0.0294 - mean_squared_error: 0.0075 - accuracy: 0.9508\n",
      "Epoch 4/5\n",
      "391/391 [==============================] - 2s 6ms/step - loss: 0.0235 - mean_squared_error: 0.0060 - accuracy: 0.9617\n",
      "Epoch 5/5\n",
      "391/391 [==============================] - 2s 6ms/step - loss: 0.0194 - mean_squared_error: 0.0049 - accuracy: 0.9681\n",
      "313/313 [==============================] - 1s 2ms/step - loss: 0.0196 - mean_squared_error: 0.0051 - accuracy: 0.9671\n",
      "Epoch 1/5\n",
      "391/391 [==============================] - 2s 5ms/step - loss: 0.0664 - mean_squared_error: 0.0178 - accuracy: 0.8840\n",
      "Epoch 2/5\n",
      "391/391 [==============================] - 2s 5ms/step - loss: 0.0297 - mean_squared_error: 0.0077 - accuracy: 0.9496\n",
      "Epoch 3/5\n",
      "391/391 [==============================] - 2s 5ms/step - loss: 0.0209 - mean_squared_error: 0.0053 - accuracy: 0.9658\n",
      "Epoch 4/5\n",
      "391/391 [==============================] - 2s 5ms/step - loss: 0.0160 - mean_squared_error: 0.0041 - accuracy: 0.9736\n",
      "Epoch 5/5\n",
      "391/391 [==============================] - 2s 5ms/step - loss: 0.0127 - mean_squared_error: 0.0032 - accuracy: 0.9792\n",
      "313/313 [==============================] - 0s 1ms/step - loss: 0.0154 - mean_squared_error: 0.0042 - accuracy: 0.9718\n",
      "Epoch 1/5\n",
      "391/391 [==============================] - 2s 5ms/step - loss: 0.0636 - mean_squared_error: 0.0171 - accuracy: 0.8883\n",
      "Epoch 2/5\n",
      "391/391 [==============================] - 2s 6ms/step - loss: 0.0279 - mean_squared_error: 0.0072 - accuracy: 0.9528\n",
      "Epoch 3/5\n",
      "391/391 [==============================] - 2s 6ms/step - loss: 0.0197 - mean_squared_error: 0.0051 - accuracy: 0.9677\n",
      "Epoch 4/5\n",
      "391/391 [==============================] - 2s 6ms/step - loss: 0.0149 - mean_squared_error: 0.0038 - accuracy: 0.9752\n",
      "Epoch 5/5\n",
      "391/391 [==============================] - 2s 6ms/step - loss: 0.0118 - mean_squared_error: 0.0030 - accuracy: 0.9802\n",
      "313/313 [==============================] - 1s 2ms/step - loss: 0.0141 - mean_squared_error: 0.0038 - accuracy: 0.9744\n",
      "Epoch 1/5\n",
      "391/391 [==============================] - 2s 5ms/step - loss: 0.3108 - mean_squared_error: 0.0871 - accuracy: 0.2885\n",
      "Epoch 2/5\n",
      "391/391 [==============================] - 2s 5ms/step - loss: 0.2717 - mean_squared_error: 0.0777 - accuracy: 0.6239\n",
      "Epoch 3/5\n",
      "391/391 [==============================] - 2s 6ms/step - loss: 0.2266 - mean_squared_error: 0.0645 - accuracy: 0.7141\n",
      "Epoch 4/5\n",
      "391/391 [==============================] - 2s 6ms/step - loss: 0.1830 - mean_squared_error: 0.0508 - accuracy: 0.7642\n",
      "Epoch 5/5\n"
     ]
    },
    {
     "name": "stdout",
     "output_type": "stream",
     "text": [
      "391/391 [==============================] - 2s 6ms/step - loss: 0.1496 - mean_squared_error: 0.0406 - accuracy: 0.8010\n",
      "313/313 [==============================] - 0s 2ms/step - loss: 0.1316 - mean_squared_error: 0.0351 - accuracy: 0.8320\n",
      "Epoch 1/5\n",
      "391/391 [==============================] - 2s 5ms/step - loss: 0.3036 - mean_squared_error: 0.0856 - accuracy: 0.3415\n",
      "Epoch 2/5\n",
      "391/391 [==============================] - 2s 5ms/step - loss: 0.2579 - mean_squared_error: 0.0737 - accuracy: 0.6349\n",
      "Epoch 3/5\n",
      "391/391 [==============================] - 2s 5ms/step - loss: 0.2091 - mean_squared_error: 0.0589 - accuracy: 0.7151\n",
      "Epoch 4/5\n",
      "391/391 [==============================] - 2s 6ms/step - loss: 0.1676 - mean_squared_error: 0.0462 - accuracy: 0.7722\n",
      "Epoch 5/5\n",
      "391/391 [==============================] - 2s 6ms/step - loss: 0.1377 - mean_squared_error: 0.0372 - accuracy: 0.8118\n",
      "313/313 [==============================] - 1s 2ms/step - loss: 0.1210 - mean_squared_error: 0.0320 - accuracy: 0.8398\n",
      "Epoch 1/5\n",
      "391/391 [==============================] - 2s 5ms/step - loss: 0.2305 - mean_squared_error: 0.0649 - accuracy: 0.6445\n",
      "Epoch 2/5\n",
      "391/391 [==============================] - 2s 6ms/step - loss: 0.1055 - mean_squared_error: 0.0278 - accuracy: 0.8500\n",
      "Epoch 3/5\n",
      "391/391 [==============================] - 2s 5ms/step - loss: 0.0753 - mean_squared_error: 0.0196 - accuracy: 0.8797\n",
      "Epoch 4/5\n",
      "391/391 [==============================] - 2s 5ms/step - loss: 0.0642 - mean_squared_error: 0.0167 - accuracy: 0.8946\n",
      "Epoch 5/5\n",
      "391/391 [==============================] - 2s 5ms/step - loss: 0.0581 - mean_squared_error: 0.0151 - accuracy: 0.9032\n",
      "313/313 [==============================] - 0s 2ms/step - loss: 0.0524 - mean_squared_error: 0.0134 - accuracy: 0.9138\n",
      "Epoch 1/5\n",
      "391/391 [==============================] - 2s 6ms/step - loss: 0.2161 - mean_squared_error: 0.0606 - accuracy: 0.6580\n",
      "Epoch 2/5\n",
      "391/391 [==============================] - 3s 7ms/step - loss: 0.0981 - mean_squared_error: 0.0258 - accuracy: 0.8540\n",
      "Epoch 3/5\n",
      "391/391 [==============================] - 2s 6ms/step - loss: 0.0721 - mean_squared_error: 0.0187 - accuracy: 0.8836\n",
      "Epoch 4/5\n",
      "391/391 [==============================] - 2s 6ms/step - loss: 0.0621 - mean_squared_error: 0.0161 - accuracy: 0.8973\n",
      "Epoch 5/5\n",
      "391/391 [==============================] - 2s 6ms/step - loss: 0.0565 - mean_squared_error: 0.0146 - accuracy: 0.9056\n",
      "313/313 [==============================] - 1s 2ms/step - loss: 0.0516 - mean_squared_error: 0.0133 - accuracy: 0.9122\n",
      "Epoch 1/5\n",
      "391/391 [==============================] - 2s 5ms/step - loss: 0.1648 - mean_squared_error: 0.0454 - accuracy: 0.7428\n",
      "Epoch 2/5\n",
      "391/391 [==============================] - 2s 5ms/step - loss: 0.0687 - mean_squared_error: 0.0178 - accuracy: 0.8897\n",
      "Epoch 3/5\n",
      "391/391 [==============================] - 2s 5ms/step - loss: 0.0558 - mean_squared_error: 0.0144 - accuracy: 0.9068\n",
      "Epoch 4/5\n",
      "391/391 [==============================] - 2s 6ms/step - loss: 0.0496 - mean_squared_error: 0.0128 - accuracy: 0.9175\n",
      "Epoch 5/5\n",
      "391/391 [==============================] - 2s 5ms/step - loss: 0.0455 - mean_squared_error: 0.0117 - accuracy: 0.9243\n",
      "313/313 [==============================] - 1s 2ms/step - loss: 0.0418 - mean_squared_error: 0.0106 - accuracy: 0.9314\n",
      "Epoch 1/5\n",
      "391/391 [==============================] - 2s 5ms/step - loss: 0.1559 - mean_squared_error: 0.0428 - accuracy: 0.7575\n",
      "Epoch 2/5\n",
      "391/391 [==============================] - 2s 5ms/step - loss: 0.0653 - mean_squared_error: 0.0170 - accuracy: 0.8929\n",
      "Epoch 3/5\n",
      "391/391 [==============================] - 2s 5ms/step - loss: 0.0535 - mean_squared_error: 0.0138 - accuracy: 0.9105\n",
      "Epoch 4/5\n",
      "391/391 [==============================] - 2s 5ms/step - loss: 0.0477 - mean_squared_error: 0.0123 - accuracy: 0.9190\n",
      "Epoch 5/5\n",
      "391/391 [==============================] - 2s 5ms/step - loss: 0.0436 - mean_squared_error: 0.0112 - accuracy: 0.9269\n",
      "313/313 [==============================] - 0s 1ms/step - loss: 0.0404 - mean_squared_error: 0.0102 - accuracy: 0.9336\n",
      "Epoch 1/5\n",
      "391/391 [==============================] - 2s 5ms/step - loss: 0.0803 - mean_squared_error: 0.0215 - accuracy: 0.8648\n",
      "Epoch 2/5\n",
      "391/391 [==============================] - 2s 5ms/step - loss: 0.0398 - mean_squared_error: 0.0103 - accuracy: 0.9328\n",
      "Epoch 3/5\n",
      "391/391 [==============================] - 2s 5ms/step - loss: 0.0308 - mean_squared_error: 0.0079 - accuracy: 0.9484\n",
      "Epoch 4/5\n",
      "391/391 [==============================] - 2s 5ms/step - loss: 0.0248 - mean_squared_error: 0.0063 - accuracy: 0.9593\n",
      "Epoch 5/5\n",
      "391/391 [==============================] - 2s 5ms/step - loss: 0.0208 - mean_squared_error: 0.0053 - accuracy: 0.9657\n",
      "313/313 [==============================] - 0s 1ms/step - loss: 0.0209 - mean_squared_error: 0.0054 - accuracy: 0.9653\n",
      "Epoch 1/5\n",
      "391/391 [==============================] - 2s 5ms/step - loss: 0.0767 - mean_squared_error: 0.0206 - accuracy: 0.8719\n",
      "Epoch 2/5\n",
      "391/391 [==============================] - 2s 5ms/step - loss: 0.0376 - mean_squared_error: 0.0097 - accuracy: 0.9363\n",
      "Epoch 3/5\n",
      "391/391 [==============================] - 2s 6ms/step - loss: 0.0284 - mean_squared_error: 0.0073 - accuracy: 0.9532\n",
      "Epoch 4/5\n",
      "391/391 [==============================] - 2s 6ms/step - loss: 0.0227 - mean_squared_error: 0.0057 - accuracy: 0.9634\n",
      "Epoch 5/5\n",
      "391/391 [==============================] - 2s 6ms/step - loss: 0.0188 - mean_squared_error: 0.0047 - accuracy: 0.9702\n",
      "313/313 [==============================] - 0s 1ms/step - loss: 0.0194 - mean_squared_error: 0.0050 - accuracy: 0.9663\n",
      "Epoch 1/5\n",
      "391/391 [==============================] - 2s 5ms/step - loss: 0.0655 - mean_squared_error: 0.0176 - accuracy: 0.8850\n",
      "Epoch 2/5\n",
      "391/391 [==============================] - 2s 6ms/step - loss: 0.0291 - mean_squared_error: 0.0075 - accuracy: 0.9510\n",
      "Epoch 3/5\n",
      "391/391 [==============================] - 2s 6ms/step - loss: 0.0207 - mean_squared_error: 0.0053 - accuracy: 0.9651\n",
      "Epoch 4/5\n",
      "391/391 [==============================] - 2s 5ms/step - loss: 0.0159 - mean_squared_error: 0.0040 - accuracy: 0.9735\n",
      "Epoch 5/5\n",
      "391/391 [==============================] - 2s 5ms/step - loss: 0.0126 - mean_squared_error: 0.0032 - accuracy: 0.9793\n",
      "313/313 [==============================] - 0s 2ms/step - loss: 0.0173 - mean_squared_error: 0.0047 - accuracy: 0.9695\n",
      "Epoch 1/5\n",
      "391/391 [==============================] - 2s 6ms/step - loss: 0.0629 - mean_squared_error: 0.0169 - accuracy: 0.8905\n",
      "Epoch 2/5\n",
      "391/391 [==============================] - 3s 7ms/step - loss: 0.0281 - mean_squared_error: 0.0073 - accuracy: 0.9523\n",
      "Epoch 3/5\n",
      "391/391 [==============================] - 3s 7ms/step - loss: 0.0200 - mean_squared_error: 0.0051 - accuracy: 0.9666\n",
      "Epoch 4/5\n",
      "391/391 [==============================] - 3s 7ms/step - loss: 0.0151 - mean_squared_error: 0.0039 - accuracy: 0.9750\n",
      "Epoch 5/5\n",
      "391/391 [==============================] - 2s 6ms/step - loss: 0.0119 - mean_squared_error: 0.0030 - accuracy: 0.9810\n",
      "313/313 [==============================] - 1s 2ms/step - loss: 0.0151 - mean_squared_error: 0.0041 - accuracy: 0.9723\n"
     ]
    }
   ],
   "source": [
    "k = 0\n",
    "for nesterov in [True, False]:\n",
    "    for learning_rate in [0.01, 0.05, 0.1, 0.5, 1]:\n",
    "        for momentum in [0.0, 0.1]:\n",
    "            sgd = SGD(\n",
    "                learning_rate=learning_rate, momentum=momentum, nesterov=nesterov, name=\"SGD\"\n",
    "            )\n",
    "            model = Sequential()\n",
    "            model.add(Dense(512, activation='relu', input_shape=(28 * 28,)))\n",
    "            model.add(Dense(256, activation='relu'))\n",
    "            model.add(Dense(10, activation='softmax'))\n",
    "\n",
    "            model.compile(optimizer=sgd,\n",
    "                            loss='binary_crossentropy',\n",
    "                            metrics = ['mean_squared_error', 'accuracy'])\n",
    "\n",
    "            model.fit(X_train, y_train, epochs=5, batch_size=128)\n",
    "\n",
    "            test_loss, test_mse, test_acc = model.evaluate(X_test, y_test)\n",
    "#             print(f'Test loss: {test_loss}, test mse: {test_mse}, test accuracy: {test_acc}')\n",
    "            SGD_statistics.loc[k] = [nesterov, learning_rate, momentum,\n",
    "                             test_loss, test_mse, test_acc]\n",
    "            k+=1"
   ]
  },
  {
   "cell_type": "code",
   "execution_count": 24,
   "metadata": {},
   "outputs": [
    {
     "data": {
      "text/html": [
       "<div>\n",
       "<style scoped>\n",
       "    .dataframe tbody tr th:only-of-type {\n",
       "        vertical-align: middle;\n",
       "    }\n",
       "\n",
       "    .dataframe tbody tr th {\n",
       "        vertical-align: top;\n",
       "    }\n",
       "\n",
       "    .dataframe thead th {\n",
       "        text-align: right;\n",
       "    }\n",
       "</style>\n",
       "<table border=\"1\" class=\"dataframe\">\n",
       "  <thead>\n",
       "    <tr style=\"text-align: right;\">\n",
       "      <th></th>\n",
       "      <th>nesterov</th>\n",
       "      <th>learning_rate</th>\n",
       "      <th>momentum</th>\n",
       "      <th>test_loss</th>\n",
       "      <th>test_mse</th>\n",
       "      <th>test_accuracy</th>\n",
       "    </tr>\n",
       "  </thead>\n",
       "  <tbody>\n",
       "    <tr>\n",
       "      <th>0</th>\n",
       "      <td>True</td>\n",
       "      <td>0.01</td>\n",
       "      <td>0.0</td>\n",
       "      <td>0.127635</td>\n",
       "      <td>0.034033</td>\n",
       "      <td>0.8322</td>\n",
       "    </tr>\n",
       "    <tr>\n",
       "      <th>1</th>\n",
       "      <td>True</td>\n",
       "      <td>0.01</td>\n",
       "      <td>0.1</td>\n",
       "      <td>0.119268</td>\n",
       "      <td>0.031491</td>\n",
       "      <td>0.8409</td>\n",
       "    </tr>\n",
       "    <tr>\n",
       "      <th>2</th>\n",
       "      <td>True</td>\n",
       "      <td>0.05</td>\n",
       "      <td>0.0</td>\n",
       "      <td>0.052826</td>\n",
       "      <td>0.013564</td>\n",
       "      <td>0.9125</td>\n",
       "    </tr>\n",
       "    <tr>\n",
       "      <th>3</th>\n",
       "      <td>True</td>\n",
       "      <td>0.05</td>\n",
       "      <td>0.1</td>\n",
       "      <td>0.049944</td>\n",
       "      <td>0.012806</td>\n",
       "      <td>0.9173</td>\n",
       "    </tr>\n",
       "    <tr>\n",
       "      <th>4</th>\n",
       "      <td>True</td>\n",
       "      <td>0.10</td>\n",
       "      <td>0.0</td>\n",
       "      <td>0.041635</td>\n",
       "      <td>0.010608</td>\n",
       "      <td>0.9317</td>\n",
       "    </tr>\n",
       "    <tr>\n",
       "      <th>5</th>\n",
       "      <td>True</td>\n",
       "      <td>0.10</td>\n",
       "      <td>0.1</td>\n",
       "      <td>0.039858</td>\n",
       "      <td>0.010175</td>\n",
       "      <td>0.9340</td>\n",
       "    </tr>\n",
       "    <tr>\n",
       "      <th>6</th>\n",
       "      <td>True</td>\n",
       "      <td>0.50</td>\n",
       "      <td>0.0</td>\n",
       "      <td>0.022441</td>\n",
       "      <td>0.005806</td>\n",
       "      <td>0.9611</td>\n",
       "    </tr>\n",
       "    <tr>\n",
       "      <th>7</th>\n",
       "      <td>True</td>\n",
       "      <td>0.50</td>\n",
       "      <td>0.1</td>\n",
       "      <td>0.019596</td>\n",
       "      <td>0.005075</td>\n",
       "      <td>0.9671</td>\n",
       "    </tr>\n",
       "    <tr>\n",
       "      <th>8</th>\n",
       "      <td>True</td>\n",
       "      <td>1.00</td>\n",
       "      <td>0.0</td>\n",
       "      <td>0.015392</td>\n",
       "      <td>0.004159</td>\n",
       "      <td>0.9718</td>\n",
       "    </tr>\n",
       "    <tr>\n",
       "      <th>9</th>\n",
       "      <td>True</td>\n",
       "      <td>1.00</td>\n",
       "      <td>0.1</td>\n",
       "      <td>0.014075</td>\n",
       "      <td>0.003812</td>\n",
       "      <td>0.9744</td>\n",
       "    </tr>\n",
       "    <tr>\n",
       "      <th>10</th>\n",
       "      <td>False</td>\n",
       "      <td>0.01</td>\n",
       "      <td>0.0</td>\n",
       "      <td>0.131560</td>\n",
       "      <td>0.035130</td>\n",
       "      <td>0.8320</td>\n",
       "    </tr>\n",
       "    <tr>\n",
       "      <th>11</th>\n",
       "      <td>False</td>\n",
       "      <td>0.01</td>\n",
       "      <td>0.1</td>\n",
       "      <td>0.120980</td>\n",
       "      <td>0.032043</td>\n",
       "      <td>0.8398</td>\n",
       "    </tr>\n",
       "    <tr>\n",
       "      <th>12</th>\n",
       "      <td>False</td>\n",
       "      <td>0.05</td>\n",
       "      <td>0.0</td>\n",
       "      <td>0.052380</td>\n",
       "      <td>0.013431</td>\n",
       "      <td>0.9138</td>\n",
       "    </tr>\n",
       "    <tr>\n",
       "      <th>13</th>\n",
       "      <td>False</td>\n",
       "      <td>0.05</td>\n",
       "      <td>0.1</td>\n",
       "      <td>0.051616</td>\n",
       "      <td>0.013293</td>\n",
       "      <td>0.9122</td>\n",
       "    </tr>\n",
       "    <tr>\n",
       "      <th>14</th>\n",
       "      <td>False</td>\n",
       "      <td>0.10</td>\n",
       "      <td>0.0</td>\n",
       "      <td>0.041818</td>\n",
       "      <td>0.010637</td>\n",
       "      <td>0.9314</td>\n",
       "    </tr>\n",
       "    <tr>\n",
       "      <th>15</th>\n",
       "      <td>False</td>\n",
       "      <td>0.10</td>\n",
       "      <td>0.1</td>\n",
       "      <td>0.040399</td>\n",
       "      <td>0.010248</td>\n",
       "      <td>0.9336</td>\n",
       "    </tr>\n",
       "    <tr>\n",
       "      <th>16</th>\n",
       "      <td>False</td>\n",
       "      <td>0.50</td>\n",
       "      <td>0.0</td>\n",
       "      <td>0.020857</td>\n",
       "      <td>0.005413</td>\n",
       "      <td>0.9653</td>\n",
       "    </tr>\n",
       "    <tr>\n",
       "      <th>17</th>\n",
       "      <td>False</td>\n",
       "      <td>0.50</td>\n",
       "      <td>0.1</td>\n",
       "      <td>0.019352</td>\n",
       "      <td>0.005029</td>\n",
       "      <td>0.9663</td>\n",
       "    </tr>\n",
       "    <tr>\n",
       "      <th>18</th>\n",
       "      <td>False</td>\n",
       "      <td>1.00</td>\n",
       "      <td>0.0</td>\n",
       "      <td>0.017345</td>\n",
       "      <td>0.004664</td>\n",
       "      <td>0.9695</td>\n",
       "    </tr>\n",
       "    <tr>\n",
       "      <th>19</th>\n",
       "      <td>False</td>\n",
       "      <td>1.00</td>\n",
       "      <td>0.1</td>\n",
       "      <td>0.015132</td>\n",
       "      <td>0.004131</td>\n",
       "      <td>0.9723</td>\n",
       "    </tr>\n",
       "  </tbody>\n",
       "</table>\n",
       "</div>"
      ],
      "text/plain": [
       "   nesterov  learning_rate  momentum  test_loss  test_mse  test_accuracy\n",
       "0      True           0.01       0.0   0.127635  0.034033         0.8322\n",
       "1      True           0.01       0.1   0.119268  0.031491         0.8409\n",
       "2      True           0.05       0.0   0.052826  0.013564         0.9125\n",
       "3      True           0.05       0.1   0.049944  0.012806         0.9173\n",
       "4      True           0.10       0.0   0.041635  0.010608         0.9317\n",
       "5      True           0.10       0.1   0.039858  0.010175         0.9340\n",
       "6      True           0.50       0.0   0.022441  0.005806         0.9611\n",
       "7      True           0.50       0.1   0.019596  0.005075         0.9671\n",
       "8      True           1.00       0.0   0.015392  0.004159         0.9718\n",
       "9      True           1.00       0.1   0.014075  0.003812         0.9744\n",
       "10    False           0.01       0.0   0.131560  0.035130         0.8320\n",
       "11    False           0.01       0.1   0.120980  0.032043         0.8398\n",
       "12    False           0.05       0.0   0.052380  0.013431         0.9138\n",
       "13    False           0.05       0.1   0.051616  0.013293         0.9122\n",
       "14    False           0.10       0.0   0.041818  0.010637         0.9314\n",
       "15    False           0.10       0.1   0.040399  0.010248         0.9336\n",
       "16    False           0.50       0.0   0.020857  0.005413         0.9653\n",
       "17    False           0.50       0.1   0.019352  0.005029         0.9663\n",
       "18    False           1.00       0.0   0.017345  0.004664         0.9695\n",
       "19    False           1.00       0.1   0.015132  0.004131         0.9723"
      ]
     },
     "execution_count": 24,
     "metadata": {},
     "output_type": "execute_result"
    }
   ],
   "source": [
    "SGD_statistics"
   ]
  }
 ],
 "metadata": {
  "kernelspec": {
   "display_name": "Python 3",
   "language": "python",
   "name": "python3"
  },
  "language_info": {
   "codemirror_mode": {
    "name": "ipython",
    "version": 3
   },
   "file_extension": ".py",
   "mimetype": "text/x-python",
   "name": "python",
   "nbconvert_exporter": "python",
   "pygments_lexer": "ipython3",
   "version": "3.8.5"
  },
  "toc": {
   "base_numbering": 1,
   "nav_menu": {},
   "number_sections": true,
   "sideBar": true,
   "skip_h1_title": false,
   "title_cell": "Table of Contents",
   "title_sidebar": "Contents",
   "toc_cell": false,
   "toc_position": {},
   "toc_section_display": true,
   "toc_window_display": false
  },
  "varInspector": {
   "cols": {
    "lenName": 16,
    "lenType": 16,
    "lenVar": 40
   },
   "kernels_config": {
    "python": {
     "delete_cmd_postfix": "",
     "delete_cmd_prefix": "del ",
     "library": "var_list.py",
     "varRefreshCmd": "print(var_dic_list())"
    },
    "r": {
     "delete_cmd_postfix": ") ",
     "delete_cmd_prefix": "rm(",
     "library": "var_list.r",
     "varRefreshCmd": "cat(var_dic_list()) "
    }
   },
   "types_to_exclude": [
    "module",
    "function",
    "builtin_function_or_method",
    "instance",
    "_Feature"
   ],
   "window_display": false
  }
 },
 "nbformat": 4,
 "nbformat_minor": 2
}
